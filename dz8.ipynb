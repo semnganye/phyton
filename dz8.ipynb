{
 "cells": [
  {
   "cell_type": "markdown",
   "metadata": {},
   "source": [
    "Задача 1. \n",
    "Напишите функцию, которая принимает на вход строку и проверяет является ли она валидным транспортным номером (1 буква, 3 цифры, 2 буквы, 2-3 цифры). Обратите внимание, что не все буквы кириллического алфавита используются в транспортных номерах.\n",
    "\n",
    "Если номер валиден, то функция должна возвращать отдельно номер и регион."
   ]
  },
  {
   "cell_type": "code",
   "execution_count": 84,
   "metadata": {},
   "outputs": [],
   "source": [
    "import re"
   ]
  },
  {
   "cell_type": "code",
   "execution_count": 53,
   "metadata": {},
   "outputs": [],
   "source": [
    "car_id = 'А222ВС96'"
   ]
  },
  {
   "cell_type": "code",
   "execution_count": 51,
   "metadata": {},
   "outputs": [],
   "source": [
    "car_id = 'АБ22ВВ193'"
   ]
  },
  {
   "cell_type": "code",
   "execution_count": 60,
   "metadata": {},
   "outputs": [
    {
     "name": "stdout",
     "output_type": "stream",
     "text": [
      "Номер А222ВС валиден. Регион: 96\n"
     ]
    }
   ],
   "source": [
    "def car_num(id):\n",
    "    car_num_id = r'([авекмнорстухАВЕКМНОРСТУХ]{1}\\d{3}[авекмнорстухАВЕКМНОРСТУХ]{2})(\\d{2,3})'\n",
    "    if re.findall(car_num_id, id):\n",
    "        car = re.search(car_num_id, id)\n",
    "        print(f'Номер {car.group(1)} валиден. Регион: {car.group(2)}')\n",
    "    else:\n",
    "        return('Номер не валиден')\n",
    "car_num(car_id)"
   ]
  },
  {
   "cell_type": "markdown",
   "metadata": {},
   "source": [
    "Задание 2\n",
    "Напишите функцию, которая будет удалять все последовательные повторы слов из заданной строки при помощи регулярных выражений."
   ]
  },
  {
   "cell_type": "code",
   "execution_count": 55,
   "metadata": {},
   "outputs": [],
   "source": [
    "some_string = 'Напишите функцию функцию, которая будет будет будет будет удалять все все все все последовательные повторы слов из из из из заданной строки строки при помощи регулярных выражений'"
   ]
  },
  {
   "cell_type": "code",
   "execution_count": 59,
   "metadata": {},
   "outputs": [
    {
     "data": {
      "text/plain": [
       "'Напишите функцию, которая будет удалять все последовательные повторы слов из заданой строки при помощи регулярных выражений'"
      ]
     },
     "execution_count": 59,
     "metadata": {},
     "output_type": "execute_result"
    }
   ],
   "source": [
    "def regex_replay(string):\n",
    "    regex = r'(.+?)\\1+'\n",
    "    result = re.sub(regex, r'\\1',string)\n",
    "    return result\n",
    "regex_replay(some_string)"
   ]
  },
  {
   "cell_type": "markdown",
   "metadata": {},
   "source": [
    "Задание 3.\n",
    "Напишите функцию, которая будет возвращать акроним по переданной в нее строке со словами."
   ]
  },
  {
   "cell_type": "code",
   "execution_count": 67,
   "metadata": {},
   "outputs": [],
   "source": [
    "some_words = 'Информационные технологии'"
   ]
  },
  {
   "cell_type": "code",
   "execution_count": 65,
   "metadata": {},
   "outputs": [],
   "source": [
    "some_words = 'Near Field Communication'"
   ]
  },
  {
   "cell_type": "code",
   "execution_count": 71,
   "metadata": {},
   "outputs": [
    {
     "data": {
      "text/plain": [
       "'ИТ'"
      ]
     },
     "execution_count": 71,
     "metadata": {},
     "output_type": "execute_result"
    }
   ],
   "source": [
    "def print_acronym(string):\n",
    "    regex = r'(\\b\\w)'\n",
    "    list_find = re.findall(regex, string)\n",
    "    acronym = ''.join(list_find)\n",
    "    return (acronym.upper())\n",
    "print_acronym(some_words)"
   ]
  },
  {
   "cell_type": "markdown",
   "metadata": {},
   "source": [
    "Задание 4.\n",
    "Напишите функцию, которая будет принимать на вход список email-адресов и выводить их распределение по доменным зонам."
   ]
  },
  {
   "cell_type": "code",
   "execution_count": 74,
   "metadata": {},
   "outputs": [],
   "source": [
    "emails = ['test@gmail.com', 'xyz@test.in', 'test@ya.ru', 'xyz@mail.ru', 'xyz@ya.ru', 'xyz@gmail.com']"
   ]
  },
  {
   "cell_type": "code",
   "execution_count": 87,
   "metadata": {},
   "outputs": [
    {
     "name": "stdout",
     "output_type": "stream",
     "text": [
      "gmail.com: 2\n",
      "test.in: 1\n",
      "ya.ru: 2\n",
      "mail.ru: 1\n"
     ]
    }
   ],
   "source": [
    "def domain(email):\n",
    "\n",
    "    gmail_com = 0\n",
    "    test_in = 0\n",
    "    ya_ru = 0\n",
    "    mail_ru = 0\n",
    "\n",
    "    for em in email:\n",
    "        if re.findall(r'gmail.com', em):\n",
    "            gmail_com += 1\n",
    "        if re.findall(r'test.in', em):\n",
    "            test_in += 1\n",
    "        if re.findall(r'ya.ru', em):\n",
    "            ya_ru += 1\n",
    "        if re.findall(r'mail.ru', em):\n",
    "            mail_ru += 1\n",
    "    print(f'gmail.com: {gmail_com}')\n",
    "    print(f'test.in: {test_in}')\n",
    "    print(f'ya.ru: {ya_ru}')\n",
    "    print(f'mail.ru: {mail_ru}')\n",
    "domain(emails)"
   ]
  }
 ],
 "metadata": {
  "kernelspec": {
   "display_name": "Python 3",
   "language": "python",
   "name": "python3"
  },
  "language_info": {
   "codemirror_mode": {
    "name": "ipython",
    "version": 3
   },
   "file_extension": ".py",
   "mimetype": "text/x-python",
   "name": "python",
   "nbconvert_exporter": "python",
   "pygments_lexer": "ipython3",
   "version": "3.8.5"
  }
 },
 "nbformat": 4,
 "nbformat_minor": 4
}
