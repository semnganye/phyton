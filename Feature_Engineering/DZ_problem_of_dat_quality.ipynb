{
 "cells": [
  {
   "cell_type": "markdown",
   "metadata": {},
   "source": [
    "Необходимо запустить практическую часть занятия, и посмотреть самому то, о чём говорили на лекции. По образу практики, попробуйте создать искусственный датасет с лишними столбцами. Целевую метку, при правильной обработке данных, формируйте таким образом, чтобы без затруднений её смогла описать линейная модель. Ориентируйтесь на то, что было показано во время занятия, и каждый шаг описывайте в markdown. Здесь важно видеть ваш ход мысли. Не бойтесь ошибиться или написать не то. Данное задание не имеет какого-то “правильного” решения. Цель - достичь базового понимания проблемы. Чем больше вы фантазируете, тем лучше :) Тем не менее, старайтесь представить те ситуации, которые по-вашему мнению могли бы быть в реальных данных. Успеха!"
   ]
  },
  {
   "cell_type": "code",
   "execution_count": 1,
   "metadata": {},
   "outputs": [],
   "source": [
    "import numpy as np\n",
    "import pandas as pd\n",
    "import seaborn as sns\n",
    "\n",
    "from sklearn.linear_model import LinearRegression"
   ]
  },
  {
   "cell_type": "markdown",
   "metadata": {},
   "source": [
    "Создал датасет со столбцами температурв в градусах цельсия, температура в градусах кельвина, день месяца, давление в бар, давление в миллиметрах ртутного столба и произведение даления в бар и температуры в градусах цельсия"
   ]
  },
  {
   "cell_type": "code",
   "execution_count": 14,
   "metadata": {},
   "outputs": [
    {
     "data": {
      "text/html": [
       "<div>\n",
       "<style scoped>\n",
       "    .dataframe tbody tr th:only-of-type {\n",
       "        vertical-align: middle;\n",
       "    }\n",
       "\n",
       "    .dataframe tbody tr th {\n",
       "        vertical-align: top;\n",
       "    }\n",
       "\n",
       "    .dataframe thead th {\n",
       "        text-align: right;\n",
       "    }\n",
       "</style>\n",
       "<table border=\"1\" class=\"dataframe\">\n",
       "  <thead>\n",
       "    <tr style=\"text-align: right;\">\n",
       "      <th></th>\n",
       "      <th>t_celsius</th>\n",
       "      <th>p_bar</th>\n",
       "      <th>day</th>\n",
       "      <th>t_kelvin</th>\n",
       "      <th>p_mercury_column</th>\n",
       "      <th>param</th>\n",
       "    </tr>\n",
       "  </thead>\n",
       "  <tbody>\n",
       "    <tr>\n",
       "      <th>0</th>\n",
       "      <td>15</td>\n",
       "      <td>58</td>\n",
       "      <td>14</td>\n",
       "      <td>288</td>\n",
       "      <td>808</td>\n",
       "      <td>9597</td>\n",
       "    </tr>\n",
       "    <tr>\n",
       "      <th>1</th>\n",
       "      <td>25</td>\n",
       "      <td>60</td>\n",
       "      <td>13</td>\n",
       "      <td>298</td>\n",
       "      <td>810</td>\n",
       "      <td>16527</td>\n",
       "    </tr>\n",
       "    <tr>\n",
       "      <th>2</th>\n",
       "      <td>10</td>\n",
       "      <td>87</td>\n",
       "      <td>24</td>\n",
       "      <td>283</td>\n",
       "      <td>837</td>\n",
       "      <td>9597</td>\n",
       "    </tr>\n",
       "    <tr>\n",
       "      <th>3</th>\n",
       "      <td>20</td>\n",
       "      <td>84</td>\n",
       "      <td>5</td>\n",
       "      <td>293</td>\n",
       "      <td>834</td>\n",
       "      <td>18507</td>\n",
       "    </tr>\n",
       "    <tr>\n",
       "      <th>4</th>\n",
       "      <td>43</td>\n",
       "      <td>68</td>\n",
       "      <td>29</td>\n",
       "      <td>316</td>\n",
       "      <td>818</td>\n",
       "      <td>32191</td>\n",
       "    </tr>\n",
       "  </tbody>\n",
       "</table>\n",
       "</div>"
      ],
      "text/plain": [
       "   t_celsius  p_bar  day  t_kelvin  p_mercury_column  param\n",
       "0         15     58   14       288               808   9597\n",
       "1         25     60   13       298               810  16527\n",
       "2         10     87   24       283               837   9597\n",
       "3         20     84    5       293               834  18507\n",
       "4         43     68   29       316               818  32191"
      ]
     },
     "execution_count": 14,
     "metadata": {},
     "output_type": "execute_result"
    }
   ],
   "source": [
    "# Создаём сэмпл\n",
    "n_samples = 1000\n",
    "\n",
    "t_celsius = np.random.choice(40, n_samples) + 5\n",
    "p_bar = np.random.choice(100, n_samples) + 1\n",
    "day = np.random.choice(30, n_samples) + 1\n",
    "t_kelvin = t_celsius + 273\n",
    "p_mercury_column = p_bar + 750\n",
    "\n",
    "param = 11 * p_bar * t_celsius + 27\n",
    "\n",
    "data = pd.DataFrame({'t_celsius': t_celsius, 'p_bar': p_bar, 'day': day, 't_kelvin': t_kelvin,\n",
    "                     'p_mercury_column': p_mercury_column, 'param': param})\n",
    "data.head(5)"
   ]
  },
  {
   "cell_type": "markdown",
   "metadata": {},
   "source": [
    "Обучаем нашу модель. Находим среднюю абсолютную ошибку, а также коэфициенты линейной модели"
   ]
  },
  {
   "cell_type": "code",
   "execution_count": 15,
   "metadata": {},
   "outputs": [
    {
     "name": "stdout",
     "output_type": "stream",
     "text": [
      "Weights: [ 6.08186682e+14 -3.36284940e+14  3.52734375e+00 -6.08186682e+14\n",
      "  3.36284940e+14]\n",
      "Bias: -8.617874116573029e+16\n",
      "Error: 2602.991\n"
     ]
    }
   ],
   "source": [
    "from sklearn.metrics import mean_absolute_error\n",
    "\n",
    "X = data[['t_celsius', 'p_bar', 'day', 't_kelvin', 'p_mercury_column']]\n",
    "y = data['param']\n",
    "reg = LinearRegression().fit(X, y)\n",
    "print('Weights: {}'.format(reg.coef_))\n",
    "print('Bias: {}'.format(reg.intercept_))\n",
    "\n",
    "pred_values = reg.predict(data[['t_celsius', 'p_bar', 'day', 't_kelvin', 'p_mercury_column']])\n",
    "print('Error: {}'.format(mean_absolute_error(pred_values, y)))"
   ]
  },
  {
   "cell_type": "markdown",
   "metadata": {},
   "source": [
    "Ошибка получилось большой, а коэфициенты очень маленькими"
   ]
  },
  {
   "cell_type": "code",
   "execution_count": 16,
   "metadata": {},
   "outputs": [
    {
     "data": {
      "text/plain": [
       "9817.0"
      ]
     },
     "execution_count": 16,
     "metadata": {},
     "output_type": "execute_result"
    }
   ],
   "source": [
    "y.median()"
   ]
  },
  {
   "cell_type": "code",
   "execution_count": null,
   "metadata": {},
   "outputs": [],
   "source": [
    "Оставим только два параметра для обучения"
   ]
  },
  {
   "cell_type": "code",
   "execution_count": 17,
   "metadata": {},
   "outputs": [
    {
     "name": "stdout",
     "output_type": "stream",
     "text": [
      "Weights: [534.22905267 267.55412564]\n",
      "Bias: -12881.494173066114\n",
      "Error: 2602.8808654987533\n"
     ]
    }
   ],
   "source": [
    "from sklearn.metrics import mean_absolute_error\n",
    "\n",
    "X = data[['t_celsius', 'p_bar']]\n",
    "y = data['param']\n",
    "reg = LinearRegression().fit(X, y)\n",
    "print('Weights: {}'.format(reg.coef_))\n",
    "print('Bias: {}'.format(reg.intercept_))\n",
    "\n",
    "pred_values = reg.predict(data[['t_celsius', 'p_bar']])\n",
    "print('Error: {}'.format(mean_absolute_error(pred_values, y)))"
   ]
  },
  {
   "cell_type": "markdown",
   "metadata": {},
   "source": [
    "Ошибка по сравнению с предыдущим обучением не изменилась"
   ]
  },
  {
   "cell_type": "markdown",
   "metadata": {},
   "source": [
    "Создал два новых признака произведение температуры в градусах и давления в бар.\n",
    "А также произведение температуры в кельвинах и давления в мм рт столба"
   ]
  },
  {
   "cell_type": "code",
   "execution_count": 18,
   "metadata": {},
   "outputs": [
    {
     "data": {
      "text/html": [
       "<div>\n",
       "<style scoped>\n",
       "    .dataframe tbody tr th:only-of-type {\n",
       "        vertical-align: middle;\n",
       "    }\n",
       "\n",
       "    .dataframe tbody tr th {\n",
       "        vertical-align: top;\n",
       "    }\n",
       "\n",
       "    .dataframe thead th {\n",
       "        text-align: right;\n",
       "    }\n",
       "</style>\n",
       "<table border=\"1\" class=\"dataframe\">\n",
       "  <thead>\n",
       "    <tr style=\"text-align: right;\">\n",
       "      <th></th>\n",
       "      <th>t_celsius</th>\n",
       "      <th>p_bar</th>\n",
       "      <th>day</th>\n",
       "      <th>t_kelvin</th>\n",
       "      <th>p_mercury_column</th>\n",
       "      <th>param</th>\n",
       "      <th>mult1</th>\n",
       "      <th>mult2</th>\n",
       "    </tr>\n",
       "  </thead>\n",
       "  <tbody>\n",
       "    <tr>\n",
       "      <th>0</th>\n",
       "      <td>15</td>\n",
       "      <td>58</td>\n",
       "      <td>14</td>\n",
       "      <td>288</td>\n",
       "      <td>808</td>\n",
       "      <td>9597</td>\n",
       "      <td>870</td>\n",
       "      <td>232704</td>\n",
       "    </tr>\n",
       "    <tr>\n",
       "      <th>1</th>\n",
       "      <td>25</td>\n",
       "      <td>60</td>\n",
       "      <td>13</td>\n",
       "      <td>298</td>\n",
       "      <td>810</td>\n",
       "      <td>16527</td>\n",
       "      <td>1500</td>\n",
       "      <td>241380</td>\n",
       "    </tr>\n",
       "    <tr>\n",
       "      <th>2</th>\n",
       "      <td>10</td>\n",
       "      <td>87</td>\n",
       "      <td>24</td>\n",
       "      <td>283</td>\n",
       "      <td>837</td>\n",
       "      <td>9597</td>\n",
       "      <td>870</td>\n",
       "      <td>236871</td>\n",
       "    </tr>\n",
       "    <tr>\n",
       "      <th>3</th>\n",
       "      <td>20</td>\n",
       "      <td>84</td>\n",
       "      <td>5</td>\n",
       "      <td>293</td>\n",
       "      <td>834</td>\n",
       "      <td>18507</td>\n",
       "      <td>1680</td>\n",
       "      <td>244362</td>\n",
       "    </tr>\n",
       "    <tr>\n",
       "      <th>4</th>\n",
       "      <td>43</td>\n",
       "      <td>68</td>\n",
       "      <td>29</td>\n",
       "      <td>316</td>\n",
       "      <td>818</td>\n",
       "      <td>32191</td>\n",
       "      <td>2924</td>\n",
       "      <td>258488</td>\n",
       "    </tr>\n",
       "  </tbody>\n",
       "</table>\n",
       "</div>"
      ],
      "text/plain": [
       "   t_celsius  p_bar  day  t_kelvin  p_mercury_column  param  mult1   mult2\n",
       "0         15     58   14       288               808   9597    870  232704\n",
       "1         25     60   13       298               810  16527   1500  241380\n",
       "2         10     87   24       283               837   9597    870  236871\n",
       "3         20     84    5       293               834  18507   1680  244362\n",
       "4         43     68   29       316               818  32191   2924  258488"
      ]
     },
     "execution_count": 18,
     "metadata": {},
     "output_type": "execute_result"
    }
   ],
   "source": [
    "# Создаем новый признак\n",
    "data['mult1'] = data['t_celsius'] * data['p_bar']\n",
    "data['mult2'] = data['t_kelvin'] * data['p_mercury_column']\n",
    "data.head(5)"
   ]
  },
  {
   "cell_type": "code",
   "execution_count": null,
   "metadata": {},
   "outputs": [],
   "source": [
    "Сперва попробуем обучить модель на признаке mult2"
   ]
  },
  {
   "cell_type": "code",
   "execution_count": 20,
   "metadata": {},
   "outputs": [
    {
     "name": "stdout",
     "output_type": "stream",
     "text": [
      "Weights: [0.77981532]\n",
      "Bias: -172026.4075641105\n",
      "Error: 184078.95720518474\n"
     ]
    }
   ],
   "source": [
    "X = data[['mult2']]\n",
    "y = data['param']\n",
    "reg = LinearRegression().fit(X, y)\n",
    "print('Weights: {}'.format(reg.coef_))\n",
    "print('Bias: {}'.format(reg.intercept_))\n",
    "\n",
    "pred_values = reg.predict(data[['mult1']])\n",
    "print('Error: {}'.format(mean_absolute_error(pred_values, y)))"
   ]
  },
  {
   "cell_type": "markdown",
   "metadata": {},
   "source": [
    "Хотя давления в барах и мм рт столба коррелируются между собой на 1, так же как и температуры между собой ошибка получилась даже больше чем в других моделях"
   ]
  },
  {
   "cell_type": "code",
   "execution_count": null,
   "metadata": {},
   "outputs": [],
   "source": [
    "Обучим модель на признаке mult1"
   ]
  },
  {
   "cell_type": "code",
   "execution_count": 19,
   "metadata": {},
   "outputs": [
    {
     "name": "stdout",
     "output_type": "stream",
     "text": [
      "Weights: [11.]\n",
      "Bias: 26.999999999994543\n",
      "Error: 3.795889824687038e-12\n"
     ]
    }
   ],
   "source": [
    "X = data[['mult1']]\n",
    "y = data['param']\n",
    "reg = LinearRegression().fit(X, y)\n",
    "print('Weights: {}'.format(reg.coef_))\n",
    "print('Bias: {}'.format(reg.intercept_))\n",
    "\n",
    "pred_values = reg.predict(data[['mult1']])\n",
    "print('Error: {}'.format(mean_absolute_error(pred_values, y)))"
   ]
  },
  {
   "cell_type": "markdown",
   "metadata": {},
   "source": [
    "param = 11 * p_bar * t_celsius + 27\n",
    "Видим, что модель подобрала правильно коэфициенты, а ошибка очень мала"
   ]
  },
  {
   "cell_type": "markdown",
   "metadata": {},
   "source": [
    "Добавил параметр день к признаку mult1"
   ]
  },
  {
   "cell_type": "code",
   "execution_count": 21,
   "metadata": {},
   "outputs": [
    {
     "name": "stdout",
     "output_type": "stream",
     "text": [
      "Weights: [-1.60423817e-15  1.10000000e+01]\n",
      "Bias: 26.999999999985448\n",
      "Error: 9.465736638958333e-12\n"
     ]
    }
   ],
   "source": [
    "X = data[['day', 'mult1']]\n",
    "y = data['param']\n",
    "reg = LinearRegression().fit(X, y)\n",
    "print('Weights: {}'.format(reg.coef_))\n",
    "print('Bias: {}'.format(reg.intercept_))\n",
    "\n",
    "pred_values = reg.predict(data[['day', 'mult1']])\n",
    "print('Error: {}'.format(mean_absolute_error(pred_values, y)))"
   ]
  },
  {
   "cell_type": "code",
   "execution_count": null,
   "metadata": {},
   "outputs": [],
   "source": [
    "Ошибка тоже получилась очень маленькой. BIAS не изменился и найден верно. Параметр 'день' не сильно помешал обучению"
   ]
  }
 ],
 "metadata": {
  "kernelspec": {
   "display_name": "Python 3",
   "language": "python",
   "name": "python3"
  },
  "language_info": {
   "codemirror_mode": {
    "name": "ipython",
    "version": 3
   },
   "file_extension": ".py",
   "mimetype": "text/x-python",
   "name": "python",
   "nbconvert_exporter": "python",
   "pygments_lexer": "ipython3",
   "version": "3.8.5"
  }
 },
 "nbformat": 4,
 "nbformat_minor": 4
}
