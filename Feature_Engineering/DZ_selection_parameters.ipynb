{
 "cells": [
  {
   "cell_type": "code",
   "execution_count": 1,
   "metadata": {},
   "outputs": [],
   "source": [
    "from sklearn import datasets\n",
    "from matplotlib import pyplot as plt\n",
    "from sklearn.preprocessing import StandardScaler\n",
    "from sklearn.model_selection import train_test_split, GridSearchCV\n",
    "from sklearn.linear_model import Lasso, Ridge, HuberRegressor, ElasticNet\n",
    "from sklearn.tree import DecisionTreeRegressor\n",
    "%matplotlib inline\n",
    "import numpy as np\n",
    "import pandas as pd\n",
    "import random\n",
    "from jupyterthemes import jtplot\n",
    "jtplot.style()"
   ]
  },
  {
   "cell_type": "code",
   "execution_count": 2,
   "metadata": {},
   "outputs": [],
   "source": [
    "boston = datasets.load_boston()"
   ]
  },
  {
   "cell_type": "code",
   "execution_count": 3,
   "metadata": {},
   "outputs": [
    {
     "data": {
      "text/html": [
       "<div>\n",
       "<style scoped>\n",
       "    .dataframe tbody tr th:only-of-type {\n",
       "        vertical-align: middle;\n",
       "    }\n",
       "\n",
       "    .dataframe tbody tr th {\n",
       "        vertical-align: top;\n",
       "    }\n",
       "\n",
       "    .dataframe thead th {\n",
       "        text-align: right;\n",
       "    }\n",
       "</style>\n",
       "<table border=\"1\" class=\"dataframe\">\n",
       "  <thead>\n",
       "    <tr style=\"text-align: right;\">\n",
       "      <th></th>\n",
       "      <th>CRIM</th>\n",
       "      <th>ZN</th>\n",
       "      <th>INDUS</th>\n",
       "      <th>CHAS</th>\n",
       "      <th>NOX</th>\n",
       "      <th>RM</th>\n",
       "      <th>AGE</th>\n",
       "      <th>DIS</th>\n",
       "      <th>RAD</th>\n",
       "      <th>TAX</th>\n",
       "      <th>PTRATIO</th>\n",
       "      <th>B</th>\n",
       "      <th>LSTAT</th>\n",
       "    </tr>\n",
       "  </thead>\n",
       "  <tbody>\n",
       "    <tr>\n",
       "      <th>0</th>\n",
       "      <td>0.00632</td>\n",
       "      <td>18.0</td>\n",
       "      <td>2.31</td>\n",
       "      <td>0.0</td>\n",
       "      <td>0.538</td>\n",
       "      <td>6.575</td>\n",
       "      <td>65.2</td>\n",
       "      <td>4.0900</td>\n",
       "      <td>1.0</td>\n",
       "      <td>296.0</td>\n",
       "      <td>15.3</td>\n",
       "      <td>396.90</td>\n",
       "      <td>4.98</td>\n",
       "    </tr>\n",
       "    <tr>\n",
       "      <th>1</th>\n",
       "      <td>0.02731</td>\n",
       "      <td>0.0</td>\n",
       "      <td>7.07</td>\n",
       "      <td>0.0</td>\n",
       "      <td>0.469</td>\n",
       "      <td>6.421</td>\n",
       "      <td>78.9</td>\n",
       "      <td>4.9671</td>\n",
       "      <td>2.0</td>\n",
       "      <td>242.0</td>\n",
       "      <td>17.8</td>\n",
       "      <td>396.90</td>\n",
       "      <td>9.14</td>\n",
       "    </tr>\n",
       "    <tr>\n",
       "      <th>2</th>\n",
       "      <td>0.02729</td>\n",
       "      <td>0.0</td>\n",
       "      <td>7.07</td>\n",
       "      <td>0.0</td>\n",
       "      <td>0.469</td>\n",
       "      <td>7.185</td>\n",
       "      <td>61.1</td>\n",
       "      <td>4.9671</td>\n",
       "      <td>2.0</td>\n",
       "      <td>242.0</td>\n",
       "      <td>17.8</td>\n",
       "      <td>392.83</td>\n",
       "      <td>4.03</td>\n",
       "    </tr>\n",
       "    <tr>\n",
       "      <th>3</th>\n",
       "      <td>0.03237</td>\n",
       "      <td>0.0</td>\n",
       "      <td>2.18</td>\n",
       "      <td>0.0</td>\n",
       "      <td>0.458</td>\n",
       "      <td>6.998</td>\n",
       "      <td>45.8</td>\n",
       "      <td>6.0622</td>\n",
       "      <td>3.0</td>\n",
       "      <td>222.0</td>\n",
       "      <td>18.7</td>\n",
       "      <td>394.63</td>\n",
       "      <td>2.94</td>\n",
       "    </tr>\n",
       "    <tr>\n",
       "      <th>4</th>\n",
       "      <td>0.06905</td>\n",
       "      <td>0.0</td>\n",
       "      <td>2.18</td>\n",
       "      <td>0.0</td>\n",
       "      <td>0.458</td>\n",
       "      <td>7.147</td>\n",
       "      <td>54.2</td>\n",
       "      <td>6.0622</td>\n",
       "      <td>3.0</td>\n",
       "      <td>222.0</td>\n",
       "      <td>18.7</td>\n",
       "      <td>396.90</td>\n",
       "      <td>5.33</td>\n",
       "    </tr>\n",
       "  </tbody>\n",
       "</table>\n",
       "</div>"
      ],
      "text/plain": [
       "      CRIM    ZN  INDUS  CHAS    NOX     RM   AGE     DIS  RAD    TAX  \\\n",
       "0  0.00632  18.0   2.31   0.0  0.538  6.575  65.2  4.0900  1.0  296.0   \n",
       "1  0.02731   0.0   7.07   0.0  0.469  6.421  78.9  4.9671  2.0  242.0   \n",
       "2  0.02729   0.0   7.07   0.0  0.469  7.185  61.1  4.9671  2.0  242.0   \n",
       "3  0.03237   0.0   2.18   0.0  0.458  6.998  45.8  6.0622  3.0  222.0   \n",
       "4  0.06905   0.0   2.18   0.0  0.458  7.147  54.2  6.0622  3.0  222.0   \n",
       "\n",
       "   PTRATIO       B  LSTAT  \n",
       "0     15.3  396.90   4.98  \n",
       "1     17.8  396.90   9.14  \n",
       "2     17.8  392.83   4.03  \n",
       "3     18.7  394.63   2.94  \n",
       "4     18.7  396.90   5.33  "
      ]
     },
     "execution_count": 3,
     "metadata": {},
     "output_type": "execute_result"
    }
   ],
   "source": [
    "df = pd.DataFrame(boston.data, columns=boston.feature_names)\n",
    "df.head(5)"
   ]
  },
  {
   "cell_type": "code",
   "execution_count": 4,
   "metadata": {},
   "outputs": [],
   "source": [
    "X, y = boston['data'], boston['target']"
   ]
  },
  {
   "cell_type": "code",
   "execution_count": 5,
   "metadata": {},
   "outputs": [],
   "source": [
    "sc = StandardScaler()\n",
    "X = sc.fit_transform(X)"
   ]
  },
  {
   "cell_type": "markdown",
   "metadata": {},
   "source": [
    "Лассо регрессия"
   ]
  },
  {
   "cell_type": "code",
   "execution_count": 6,
   "metadata": {},
   "outputs": [],
   "source": [
    "lasso_reg = Lasso()"
   ]
  },
  {
   "cell_type": "code",
   "execution_count": 7,
   "metadata": {},
   "outputs": [
    {
     "name": "stdout",
     "output_type": "stream",
     "text": [
      "Fitting 10 folds for each of 100 candidates, totalling 1000 fits\n"
     ]
    },
    {
     "name": "stderr",
     "output_type": "stream",
     "text": [
      "[Parallel(n_jobs=-1)]: Using backend LokyBackend with 8 concurrent workers.\n",
      "[Parallel(n_jobs=-1)]: Done  25 tasks      | elapsed:    4.4s\n",
      "[Parallel(n_jobs=-1)]: Done 836 tasks      | elapsed:    5.1s\n",
      "[Parallel(n_jobs=-1)]: Done 1000 out of 1000 | elapsed:    5.3s finished\n"
     ]
    },
    {
     "data": {
      "text/plain": [
       "GridSearchCV(cv=10, estimator=Lasso(), n_jobs=-1,\n",
       "             param_grid={'alpha': array([1.00000000e-07, 1.23284674e-07, 1.51991108e-07, 1.87381742e-07,\n",
       "       2.31012970e-07, 2.84803587e-07, 3.51119173e-07, 4.32876128e-07,\n",
       "       5.33669923e-07, 6.57933225e-07, 8.11130831e-07, 1.00000000e-06,\n",
       "       1.23284674e-06, 1.51991108e-06, 1.87381742e-06, 2.31012970e-06,\n",
       "       2.84803587e-06, 3.51119173e-06, 4.3287...\n",
       "       8.11130831e-01, 1.00000000e+00, 1.23284674e+00, 1.51991108e+00,\n",
       "       1.87381742e+00, 2.31012970e+00, 2.84803587e+00, 3.51119173e+00,\n",
       "       4.32876128e+00, 5.33669923e+00, 6.57933225e+00, 8.11130831e+00,\n",
       "       1.00000000e+01, 1.23284674e+01, 1.51991108e+01, 1.87381742e+01,\n",
       "       2.31012970e+01, 2.84803587e+01, 3.51119173e+01, 4.32876128e+01,\n",
       "       5.33669923e+01, 6.57933225e+01, 8.11130831e+01, 1.00000000e+02])},\n",
       "             verbose=2)"
      ]
     },
     "execution_count": 7,
     "metadata": {},
     "output_type": "execute_result"
    }
   ],
   "source": [
    "# Для лассо только один параметр можно подобрать - альфа\n",
    "params = np.logspace(-7, 2, 100)\n",
    "lasso_params = dict(alpha=params)\n",
    "grid_lasso = GridSearchCV(lasso_reg, lasso_params, cv=10, verbose=2, n_jobs=-1)\n",
    "grid_lasso.fit(X, y)"
   ]
  },
  {
   "cell_type": "code",
   "execution_count": 8,
   "metadata": {},
   "outputs": [
    {
     "name": "stdout",
     "output_type": "stream",
     "text": [
      "mean_fit_time : 0.09199879169464112\n",
      "std_fit_time : 0.06346017747389045\n",
      "mean_score_time : 0.007221341133117676\n",
      "std_score_time : 0.0027601156805036396\n",
      "param_alpha : 1e-07\n",
      "params : {'alpha': 1e-07}\n",
      "split0_test_score : 0.7337608653409902\n",
      "split1_test_score : 0.4730725937863456\n",
      "split2_test_score : -1.0063140318687664\n",
      "split3_test_score : 0.6411398253318428\n",
      "split4_test_score : 0.5476605218437148\n",
      "split5_test_score : 0.7364029360513736\n",
      "split6_test_score : 0.3782839836963583\n",
      "split7_test_score : -0.12922702003267905\n",
      "split8_test_score : -0.7684325501132285\n",
      "split9_test_score : 0.4189436884007923\n",
      "mean_test_score : 0.20252908124367436\n",
      "std_test_score : 0.5952959541210957\n",
      "rank_test_score : 76\n"
     ]
    }
   ],
   "source": [
    "# view the complete results (list of named tuples)\n",
    "for k in grid_lasso.cv_results_:\n",
    "    print(k, \":\", grid_lasso.cv_results_[k][0])"
   ]
  },
  {
   "cell_type": "code",
   "execution_count": 9,
   "metadata": {},
   "outputs": [
    {
     "name": "stdout",
     "output_type": "stream",
     "text": [
      "[ 0.20252908  0.2025291   0.20252913  0.20252916  0.2025292   0.20252925\n",
      "  0.20252931  0.20252939  0.20252948  0.20252959  0.20252973  0.2025299\n",
      "  0.20253011  0.20253038  0.2025307   0.2025311   0.20253159  0.20253219\n",
      "  0.20253294  0.20253386  0.20253496  0.20253636  0.20253807  0.20254018\n",
      "  0.20254278  0.202546    0.20255     0.20255489  0.20256092  0.20256837\n",
      "  0.20257754  0.20258876  0.20260279  0.20262003  0.20264171  0.20266802\n",
      "  0.20270026  0.20274011  0.20278908  0.20284983  0.20292414  0.20301558\n",
      "  0.20312784  0.20326543  0.20343447  0.20364058  0.2038932   0.2042056\n",
      "  0.2045997   0.20509582  0.20570696  0.20645225  0.20736845  0.20847596\n",
      "  0.20982229  0.21143602  0.21339508  0.21569605  0.21840816  0.2216304\n",
      "  0.22531672  0.22936895  0.2335881   0.23780311  0.24085834  0.24150751\n",
      "  0.24079926  0.24590089  0.25418525  0.26147806  0.26541844  0.25851904\n",
      "  0.2431432   0.22707948  0.21397174  0.21178859  0.20032608  0.1808549\n",
      "  0.15609343  0.12202143  0.06628029 -0.01772707 -0.13603572 -0.28980643\n",
      " -0.51375675 -0.81946623 -1.1701878  -1.28608305 -1.28608305 -1.28608305\n",
      " -1.28608305 -1.28608305 -1.28608305 -1.28608305 -1.28608305 -1.28608305\n",
      " -1.28608305 -1.28608305 -1.28608305 -1.28608305]\n"
     ]
    }
   ],
   "source": [
    "# create a list of the mean scores only\n",
    "test_scores = grid_lasso.cv_results_['mean_test_score']\n",
    "print(test_scores)"
   ]
  },
  {
   "cell_type": "code",
   "execution_count": 10,
   "metadata": {},
   "outputs": [
    {
     "data": {
      "text/plain": [
       "Text(0, 0.5, 'Cross-Validated Accuracy')"
      ]
     },
     "execution_count": 10,
     "metadata": {},
     "output_type": "execute_result"
    },
    {
     "data": {
      "image/png": "[encoded data removed]",
      "text/plain": [
       "<Figure size 460.8x403.2 with 1 Axes>"
      ]
     },
     "metadata": {},
     "output_type": "display_data"
    }
   ],
   "source": [
    "# plot the results\n",
    "# this is identical to the one we generated above\n",
    "plt.plot(params, test_scores)\n",
    "plt.xlabel('Value of alpha for Lasso')\n",
    "plt.ylabel('Cross-Validated Accuracy')"
   ]
  },
  {
   "cell_type": "code",
   "execution_count": 11,
   "metadata": {},
   "outputs": [
    {
     "name": "stdout",
     "output_type": "stream",
     "text": [
      "0.26541844300913836\n",
      "{'alpha': 0.23101297000831628}\n",
      "Lasso(alpha=0.23101297000831628)\n"
     ]
    }
   ],
   "source": [
    "# examine the best model\n",
    "\n",
    "# Single best score achieved across all params \n",
    "print(grid_lasso.best_score_)\n",
    "\n",
    "# Dictionary containing the parameters  used to generate that score\n",
    "print(grid_lasso.best_params_)\n",
    "\n",
    "# Actual model object fit with those best parameters\n",
    "# Shows default parameters that we did not specify\n",
    "print(grid_lasso.best_estimator_)"
   ]
  },
  {
   "cell_type": "markdown",
   "metadata": {},
   "source": [
    "Ридж-регрессия"
   ]
  },
  {
   "cell_type": "code",
   "execution_count": 15,
   "metadata": {},
   "outputs": [],
   "source": [
    "rige_reg = Ridge()"
   ]
  },
  {
   "cell_type": "code",
   "execution_count": 16,
   "metadata": {},
   "outputs": [
    {
     "name": "stdout",
     "output_type": "stream",
     "text": [
      "Fitting 10 folds for each of 600 candidates, totalling 6000 fits\n"
     ]
    },
    {
     "name": "stderr",
     "output_type": "stream",
     "text": [
      "[Parallel(n_jobs=-1)]: Using backend LokyBackend with 8 concurrent workers.\n",
      "[Parallel(n_jobs=-1)]: Done  25 tasks      | elapsed:    4.9s\n",
      "[Parallel(n_jobs=-1)]: Done 1688 tasks      | elapsed:    7.1s\n",
      "[Parallel(n_jobs=-1)]: Done 6000 out of 6000 | elapsed:   10.4s finished\n"
     ]
    },
    {
     "data": {
      "text/plain": [
       "GridSearchCV(cv=10, estimator=Ridge(), n_jobs=-1,\n",
       "             param_grid={'alpha': array([1.00000000e-07, 1.23284674e-07, 1.51991108e-07, 1.87381742e-07,\n",
       "       2.31012970e-07, 2.84803587e-07, 3.51119173e-07, 4.32876128e-07,\n",
       "       5.33669923e-07, 6.57933225e-07, 8.11130831e-07, 1.00000000e-06,\n",
       "       1.23284674e-06, 1.51991108e-06, 1.87381742e-06, 2.31012970e-06,\n",
       "       2.84803587e-06, 3.51119173e-06, 4.3287...\n",
       "       1.87381742e+00, 2.31012970e+00, 2.84803587e+00, 3.51119173e+00,\n",
       "       4.32876128e+00, 5.33669923e+00, 6.57933225e+00, 8.11130831e+00,\n",
       "       1.00000000e+01, 1.23284674e+01, 1.51991108e+01, 1.87381742e+01,\n",
       "       2.31012970e+01, 2.84803587e+01, 3.51119173e+01, 4.32876128e+01,\n",
       "       5.33669923e+01, 6.57933225e+01, 8.11130831e+01, 1.00000000e+02]),\n",
       "                         'solver': ['svd', 'cholesky', 'lsqr', 'sparse_cg',\n",
       "                                    'sag', 'saga']},\n",
       "             verbose=2)"
      ]
     },
     "execution_count": 16,
     "metadata": {},
     "output_type": "execute_result"
    }
   ],
   "source": [
    "# Для ридж-регрессии можно еще перебрать оптимизаторы\n",
    "rige_params = {\n",
    "    'alpha': np.logspace(-7, 2, 100),\n",
    "    'solver': ['svd', 'cholesky', 'lsqr', 'sparse_cg', 'sag', 'saga']\n",
    "}\n",
    "grid_rige = GridSearchCV(rige_reg, rige_params, cv=10, verbose=2, n_jobs=-1)\n",
    "grid_rige.fit(X, y)"
   ]
  },
  {
   "cell_type": "code",
   "execution_count": 17,
   "metadata": {},
   "outputs": [
    {
     "name": "stdout",
     "output_type": "stream",
     "text": [
      "{'alpha': 100.0, 'solver': 'lsqr'}\n",
      "0.3568367228898538\n",
      "Ridge(alpha=100.0, solver='lsqr')\n"
     ]
    }
   ],
   "source": [
    "print(grid_rige.best_params_)\n",
    "print(grid_rige.best_score_)\n",
    "print(grid_rige.best_estimator_)"
   ]
  },
  {
   "cell_type": "markdown",
   "metadata": {},
   "source": [
    "Регрессия Хьюберта"
   ]
  },
  {
   "cell_type": "code",
   "execution_count": 18,
   "metadata": {},
   "outputs": [],
   "source": [
    "huber_reg = HuberRegressor()"
   ]
  },
  {
   "cell_type": "code",
   "execution_count": 19,
   "metadata": {},
   "outputs": [
    {
     "name": "stdout",
     "output_type": "stream",
     "text": [
      "Fitting 10 folds for each of 2500 candidates, totalling 25000 fits\n"
     ]
    },
    {
     "name": "stderr",
     "output_type": "stream",
     "text": [
      "[Parallel(n_jobs=-1)]: Using backend LokyBackend with 8 concurrent workers.\n",
      "[Parallel(n_jobs=-1)]: Done  34 tasks      | elapsed:    0.1s\n",
      "[Parallel(n_jobs=-1)]: Done 504 tasks      | elapsed:    2.5s\n",
      "[Parallel(n_jobs=-1)]: Done 1316 tasks      | elapsed:    6.0s\n",
      "[Parallel(n_jobs=-1)]: Done 2448 tasks      | elapsed:   10.9s\n",
      "[Parallel(n_jobs=-1)]: Done 3908 tasks      | elapsed:   17.4s\n",
      "[Parallel(n_jobs=-1)]: Done 5688 tasks      | elapsed:   25.4s\n",
      "[Parallel(n_jobs=-1)]: Done 7796 tasks      | elapsed:   34.9s\n",
      "[Parallel(n_jobs=-1)]: Done 10224 tasks      | elapsed:   45.5s\n",
      "[Parallel(n_jobs=-1)]: Done 12980 tasks      | elapsed:   57.8s\n",
      "[Parallel(n_jobs=-1)]: Done 16056 tasks      | elapsed:  1.2min\n",
      "[Parallel(n_jobs=-1)]: Done 19460 tasks      | elapsed:  1.5min\n",
      "[Parallel(n_jobs=-1)]: Done 23184 tasks      | elapsed:  1.8min\n",
      "[Parallel(n_jobs=-1)]: Done 25000 out of 25000 | elapsed:  1.9min finished\n"
     ]
    },
    {
     "data": {
      "text/plain": [
       "GridSearchCV(cv=10, estimator=HuberRegressor(), n_jobs=-1,\n",
       "             param_grid={'alpha': array([1.00000000e-07, 1.52641797e-07, 2.32995181e-07, 3.55648031e-07,\n",
       "       5.42867544e-07, 8.28642773e-07, 1.26485522e-06, 1.93069773e-06,\n",
       "       2.94705170e-06, 4.49843267e-06, 6.86648845e-06, 1.04811313e-05,\n",
       "       1.59985872e-05, 2.44205309e-05, 3.72759372e-05, 5.68986603e-05,\n",
       "       8.68511374e-05, 1.32571137e-...\n",
       "       1.54897959, 1.5622449 , 1.5755102 , 1.58877551, 1.60204082,\n",
       "       1.61530612, 1.62857143, 1.64183673, 1.65510204, 1.66836735,\n",
       "       1.68163265, 1.69489796, 1.70816327, 1.72142857, 1.73469388,\n",
       "       1.74795918, 1.76122449, 1.7744898 , 1.7877551 , 1.80102041,\n",
       "       1.81428571, 1.82755102, 1.84081633, 1.85408163, 1.86734694,\n",
       "       1.88061224, 1.89387755, 1.90714286, 1.92040816, 1.93367347,\n",
       "       1.94693878, 1.96020408, 1.97346939, 1.98673469, 2.        ])},\n",
       "             verbose=2)"
      ]
     },
     "execution_count": 19,
     "metadata": {},
     "output_type": "execute_result"
    }
   ],
   "source": [
    "# Регрессия не шибко быстрая, поэтому сделаем параметров поменьше\n",
    "huber_params = {\n",
    "    'alpha': np.logspace(-7, 2, 50),\n",
    "    'epsilon': np.linspace(1.35, 2, 50)\n",
    "}\n",
    "grid_huber = GridSearchCV(huber_reg, huber_params, cv=10, verbose=2, n_jobs=-1)\n",
    "grid_huber.fit(X, y)"
   ]
  },
  {
   "cell_type": "code",
   "execution_count": 20,
   "metadata": {},
   "outputs": [
    {
     "name": "stdout",
     "output_type": "stream",
     "text": [
      "{'alpha': 28.117686979742366, 'epsilon': 1.8275510204081633}\n",
      "0.37976089515649714\n",
      "HuberRegressor(alpha=28.117686979742366, epsilon=1.8275510204081633)\n"
     ]
    }
   ],
   "source": [
    "print(grid_huber.best_params_)\n",
    "print(grid_huber.best_score_)\n",
    "print(grid_huber.best_estimator_)"
   ]
  },
  {
   "cell_type": "markdown",
   "metadata": {},
   "source": [
    "ElasticNet регрессия"
   ]
  },
  {
   "cell_type": "code",
   "execution_count": 21,
   "metadata": {},
   "outputs": [],
   "source": [
    "elast_reg = ElasticNet()"
   ]
  },
  {
   "cell_type": "code",
   "execution_count": 22,
   "metadata": {},
   "outputs": [
    {
     "name": "stdout",
     "output_type": "stream",
     "text": [
      "Fitting 10 folds for each of 10000 candidates, totalling 100000 fits\n"
     ]
    },
    {
     "name": "stderr",
     "output_type": "stream",
     "text": [
      "[Parallel(n_jobs=-1)]: Using backend LokyBackend with 8 concurrent workers.\n",
      "[Parallel(n_jobs=-1)]: Done  34 tasks      | elapsed:    0.1s\n",
      "[Parallel(n_jobs=-1)]: Done 4208 tasks      | elapsed:    4.2s\n",
      "[Parallel(n_jobs=-1)]: Done 17200 tasks      | elapsed:   14.3s\n",
      "[Parallel(n_jobs=-1)]: Done 35312 tasks      | elapsed:   27.7s\n",
      "[Parallel(n_jobs=-1)]: Done 58672 tasks      | elapsed:   44.1s\n",
      "[Parallel(n_jobs=-1)]: Done 87152 tasks      | elapsed:  1.1min\n",
      "[Parallel(n_jobs=-1)]: Done 100000 out of 100000 | elapsed:  1.2min finished\n",
      "C:\\Users\\CoreI7\\anaconda3\\lib\\site-packages\\sklearn\\linear_model\\_coordinate_descent.py:529: ConvergenceWarning: Objective did not converge. You might want to increase the number of iterations. Duality gap: 7523.026611403221, tolerance: 4.271629541501977\n",
      "  model = cd_fast.enet_coordinate_descent(\n"
     ]
    },
    {
     "data": {
      "text/plain": [
       "GridSearchCV(cv=10, estimator=ElasticNet(), n_jobs=-1,\n",
       "             param_grid={'alpha': array([1.00000000e-07, 1.10975250e-07, 1.23155060e-07, 1.36671636e-07,\n",
       "       1.51671689e-07, 1.68318035e-07, 1.86791360e-07, 2.07292178e-07,\n",
       "       2.30043012e-07, 2.55290807e-07, 2.83309610e-07, 3.14403547e-07,\n",
       "       3.48910121e-07, 3.87203878e-07, 4.29700470e-07, 4.76861170e-07,\n",
       "       5.29197874e-07, 5.87278661e-07, 6...\n",
       "       0.30612245, 0.32653061, 0.34693878, 0.36734694, 0.3877551 ,\n",
       "       0.40816327, 0.42857143, 0.44897959, 0.46938776, 0.48979592,\n",
       "       0.51020408, 0.53061224, 0.55102041, 0.57142857, 0.59183673,\n",
       "       0.6122449 , 0.63265306, 0.65306122, 0.67346939, 0.69387755,\n",
       "       0.71428571, 0.73469388, 0.75510204, 0.7755102 , 0.79591837,\n",
       "       0.81632653, 0.83673469, 0.85714286, 0.87755102, 0.89795918,\n",
       "       0.91836735, 0.93877551, 0.95918367, 0.97959184, 1.        ])},\n",
       "             verbose=2)"
      ]
     },
     "execution_count": 22,
     "metadata": {},
     "output_type": "execute_result"
    }
   ],
   "source": [
    "elast_params = {\n",
    "    'alpha': np.logspace(-7, 2, 200),\n",
    "    'l1_ratio': np.linspace(0, 1, 50)\n",
    "}\n",
    "grid_elast = GridSearchCV(elast_reg, elast_params, cv=10, verbose=2, n_jobs=-1)\n",
    "grid_elast.fit(X, y)"
   ]
  },
  {
   "cell_type": "code",
   "execution_count": 23,
   "metadata": {},
   "outputs": [
    {
     "name": "stdout",
     "output_type": "stream",
     "text": [
      "{'alpha': 0.23816855519761607, 'l1_ratio': 0.0}\n",
      "0.3571746830230368\n",
      "ElasticNet(alpha=0.23816855519761607, l1_ratio=0.0)\n"
     ]
    }
   ],
   "source": [
    "print(grid_elast.best_params_)\n",
    "print(grid_elast.best_score_)\n",
    "print(grid_elast.best_estimator_)"
   ]
  },
  {
   "cell_type": "markdown",
   "metadata": {},
   "source": [
    "DecisionTree"
   ]
  },
  {
   "cell_type": "code",
   "execution_count": 24,
   "metadata": {},
   "outputs": [],
   "source": [
    "tree_reg = DecisionTreeRegressor()"
   ]
  },
  {
   "cell_type": "code",
   "execution_count": 25,
   "metadata": {},
   "outputs": [
    {
     "name": "stdout",
     "output_type": "stream",
     "text": [
      "Fitting 10 folds for each of 300 candidates, totalling 3000 fits\n"
     ]
    },
    {
     "name": "stderr",
     "output_type": "stream",
     "text": [
      "[Parallel(n_jobs=-1)]: Using backend LokyBackend with 8 concurrent workers.\n",
      "[Parallel(n_jobs=-1)]: Done  34 tasks      | elapsed:    0.1s\n",
      "[Parallel(n_jobs=-1)]: Done 2244 tasks      | elapsed:    5.3s\n",
      "[Parallel(n_jobs=-1)]: Done 3000 out of 3000 | elapsed:    6.0s finished\n"
     ]
    },
    {
     "data": {
      "text/plain": [
       "GridSearchCV(cv=10, estimator=DecisionTreeRegressor(), n_jobs=-1,\n",
       "             param_grid={'criterion': ['mse', 'mae', 'friedman_mse'],\n",
       "                         'max_depth': range(1, 11),\n",
       "                         'min_samples_leaf': [1, 2, 4, 8, 16],\n",
       "                         'splitter': ['best', 'random']},\n",
       "             verbose=2)"
      ]
     },
     "execution_count": 25,
     "metadata": {},
     "output_type": "execute_result"
    }
   ],
   "source": [
    "tree_params = {\n",
    "    'max_depth': range(1, 11),\n",
    "    'splitter': ['best', 'random'],\n",
    "    'criterion': ['mse', 'mae', 'friedman_mse'],\n",
    "    'min_samples_leaf': [1, 2, 4, 8, 16]\n",
    "}\n",
    "grid_tree = GridSearchCV(tree_reg, tree_params, cv=10, verbose=2, n_jobs=-1)\n",
    "grid_tree.fit(X, y)"
   ]
  },
  {
   "cell_type": "code",
   "execution_count": 26,
   "metadata": {},
   "outputs": [
    {
     "name": "stdout",
     "output_type": "stream",
     "text": [
      "{'criterion': 'mae', 'max_depth': 5, 'min_samples_leaf': 4, 'splitter': 'best'}\n",
      "0.3617113557418506\n",
      "DecisionTreeRegressor(criterion='mae', max_depth=5, min_samples_leaf=4)\n"
     ]
    }
   ],
   "source": [
    "print(grid_tree.best_params_)\n",
    "print(grid_tree.best_score_)\n",
    "print(grid_tree.best_estimator_)"
   ]
  },
  {
   "cell_type": "code",
   "execution_count": null,
   "metadata": {},
   "outputs": [],
   "source": []
  }
 ],
 "metadata": {
  "kernelspec": {
   "display_name": "Python 3",
   "language": "python",
   "name": "python3"
  },
  "language_info": {
   "codemirror_mode": {
    "name": "ipython",
    "version": 3
   },
   "file_extension": ".py",
   "mimetype": "text/x-python",
   "name": "python",
   "nbconvert_exporter": "python",
   "pygments_lexer": "ipython3",
   "version": "3.8.5"
  }
 },
 "nbformat": 4,
 "nbformat_minor": 4
}
