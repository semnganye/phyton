{
 "cells": [
  {
   "cell_type": "markdown",
   "metadata": {},
   "source": [
    "\n",
    "Уровень 0:\n",
    "\n",
    "Посчитайте значение первой и второй производной функции:\n",
    "\n",
    "f(x) = x^5 + 4sin(2x) + cos(3x+3)\n",
    "\n",
    "В точке x = 1.\n"
   ]
  },
  {
   "cell_type": "code",
   "execution_count": 1,
   "metadata": {},
   "outputs": [],
   "source": [
    "from scipy.misc import derivative"
   ]
  },
  {
   "cell_type": "code",
   "execution_count": 3,
   "metadata": {},
   "outputs": [],
   "source": [
    "import math"
   ]
  },
  {
   "cell_type": "code",
   "execution_count": 26,
   "metadata": {},
   "outputs": [
    {
     "data": {
      "text/plain": [
       "2.509071801881646"
      ]
     },
     "execution_count": 26,
     "metadata": {},
     "output_type": "execute_result"
    }
   ],
   "source": [
    "def f(x):\n",
    "    return x**5 + 4*math.sin(2*x) + math.cos(3*x+3)\n",
    "derivative(f, 1.0, dx=1e-6 ) #значение первой производной"
   ]
  },
  {
   "cell_type": "code",
   "execution_count": 27,
   "metadata": {},
   "outputs": [
    {
     "data": {
      "text/plain": [
       "-3.19033688356285"
      ]
     },
     "execution_count": 27,
     "metadata": {},
     "output_type": "execute_result"
    }
   ],
   "source": [
    "def f(x):       \n",
    "    return x**5 + 4*math.sin(2*x) + math.cos(3*x+3)\n",
    "derivative(f, 1.0, dx=1e-6, n = 2) #значение второй производной"
   ]
  },
  {
   "cell_type": "code",
   "execution_count": 6,
   "metadata": {},
   "outputs": [],
   "source": [
    "from sympy import *"
   ]
  },
  {
   "cell_type": "code",
   "execution_count": 9,
   "metadata": {},
   "outputs": [],
   "source": [
    "x, y = symbols('x y')"
   ]
  },
  {
   "cell_type": "code",
   "execution_count": 10,
   "metadata": {},
   "outputs": [],
   "source": [
    "gfg_exp = x**5 + 4*sin(2*x) + cos(3*x+3)"
   ]
  },
  {
   "cell_type": "code",
   "execution_count": 11,
   "metadata": {},
   "outputs": [
    {
     "data": {
      "text/latex": [
       "$\\displaystyle 5 x^{4} - 3 \\sin{\\left(3 x + 3 \\right)} + 8 \\cos{\\left(2 x \\right)}$"
      ],
      "text/plain": [
       "5*x**4 - 3*sin(3*x + 3) + 8*cos(2*x)"
      ]
     },
     "execution_count": 11,
     "metadata": {},
     "output_type": "execute_result"
    }
   ],
   "source": [
    "dif = diff(gfg_exp, x)\n",
    "dif"
   ]
  },
  {
   "cell_type": "code",
   "execution_count": 12,
   "metadata": {},
   "outputs": [
    {
     "data": {
      "text/latex": [
       "$\\displaystyle 20 x^{3} - 16 \\sin{\\left(2 x \\right)} - 9 \\cos{\\left(3 x + 3 \\right)}$"
      ],
      "text/plain": [
       "20*x**3 - 16*sin(2*x) - 9*cos(3*x + 3)"
      ]
     },
     "execution_count": 12,
     "metadata": {},
     "output_type": "execute_result"
    }
   ],
   "source": [
    "dif2 = diff(dif, x)\n",
    "dif2"
   ]
  },
  {
   "cell_type": "code",
   "execution_count": 14,
   "metadata": {},
   "outputs": [
    {
     "data": {
      "text/latex": [
       "$\\displaystyle 2.50907180221964$"
      ],
      "text/plain": [
       "2.50907180221964"
      ]
     },
     "execution_count": 14,
     "metadata": {},
     "output_type": "execute_result"
    }
   ],
   "source": [
    "dif.evalf(subs={x:1}) #значение первой производной"
   ]
  },
  {
   "cell_type": "code",
   "execution_count": 15,
   "metadata": {},
   "outputs": [
    {
     "data": {
      "text/latex": [
       "$\\displaystyle -3.1902914090642$"
      ],
      "text/plain": [
       "-3.19029140906420"
      ]
     },
     "execution_count": 15,
     "metadata": {},
     "output_type": "execute_result"
    }
   ],
   "source": [
    "dif2.evalf(subs={x:1}) #значение второй производной\n"
   ]
  },
  {
   "cell_type": "markdown",
   "metadata": {},
   "source": [
    "Постройте график первой и второй производной функции:\n",
    "\n",
    "f(x) = sin**5(2x+1)\n",
    "\n",
    "На отрезке [-5; 5]."
   ]
  },
  {
   "cell_type": "code",
   "execution_count": 18,
   "metadata": {},
   "outputs": [],
   "source": [
    "import numpy as np"
   ]
  },
  {
   "cell_type": "code",
   "execution_count": 62,
   "metadata": {},
   "outputs": [
    {
     "data": {
      "text/plain": [
       "array([-5.        , -4.79591837, -4.59183673, -4.3877551 , -4.18367347,\n",
       "       -3.97959184, -3.7755102 , -3.57142857, -3.36734694, -3.16326531,\n",
       "       -2.95918367, -2.75510204, -2.55102041, -2.34693878, -2.14285714,\n",
       "       -1.93877551, -1.73469388, -1.53061224, -1.32653061, -1.12244898,\n",
       "       -0.91836735, -0.71428571, -0.51020408, -0.30612245, -0.10204082,\n",
       "        0.10204082,  0.30612245,  0.51020408,  0.71428571,  0.91836735,\n",
       "        1.12244898,  1.32653061,  1.53061224,  1.73469388,  1.93877551,\n",
       "        2.14285714,  2.34693878,  2.55102041,  2.75510204,  2.95918367,\n",
       "        3.16326531,  3.36734694,  3.57142857,  3.7755102 ,  3.97959184,\n",
       "        4.18367347,  4.3877551 ,  4.59183673,  4.79591837,  5.        ])"
      ]
     },
     "execution_count": 62,
     "metadata": {},
     "output_type": "execute_result"
    }
   ],
   "source": [
    "y = np.linspace(-5, 5, num = 50, endpoint = True)\n",
    "y"
   ]
  },
  {
   "cell_type": "code",
   "execution_count": 63,
   "metadata": {},
   "outputs": [
    {
     "data": {
      "text/plain": [
       "[-0.2628263180105492,\n",
       " -2.016257274445321,\n",
       " -2.5944023704926877,\n",
       " 0.7743043439756292,\n",
       " 2.854697001564155,\n",
       " 1.1954731784363792,\n",
       " 0.047302424915278245,\n",
       " 0.003789518600819271,\n",
       " 0.6306578356207737,\n",
       " 2.5708407923041854,\n",
       " 1.8777207618780878,\n",
       " -1.849414984489428,\n",
       " -2.584384391240979,\n",
       " -0.6449439466232887,\n",
       " -0.00421087750571283,\n",
       " -0.04478563942172508,\n",
       " -1.1765431454646702,\n",
       " -2.8520499489870232,\n",
       " -0.8106619198700038,\n",
       " 2.5788948508354004,\n",
       " 2.035614264206398,\n",
       " 0.27127890789464815,\n",
       " 1.7338225730515994e-06,\n",
       " 0.18922406513997153,\n",
       " 1.8234433571129305,\n",
       " 2.72286964503321,\n",
       " -0.4129453268220118,\n",
       " -2.8593286613975977,\n",
       " -1.3847781657402858,\n",
       " -0.07742763524104003,\n",
       " -0.0011248070376215704,\n",
       " -0.5004871423321816,\n",
       " -2.4257668825578005,\n",
       " -2.1356160301300164,\n",
       " 1.5564373385124064,\n",
       " 2.7019072814105094,\n",
       " 0.7932326153529956,\n",
       " 0.010361557518253859,\n",
       " 0.025004089125970404,\n",
       " 0.9975717343568835,\n",
       " 2.806057553456087,\n",
       " 1.1565817647496424,\n",
       " -2.405135411776005,\n",
       " -2.218750257493296,\n",
       " -0.3630180985623316,\n",
       " -0.00010837135339256065,\n",
       " -0.13087640707331108,\n",
       " -1.6268706476141315,\n",
       " -2.809505453782446,\n",
       " 0.0442552463564283]"
      ]
     },
     "execution_count": 63,
     "metadata": {},
     "output_type": "execute_result"
    }
   ],
   "source": [
    "xxx = []\n",
    "def f(x):\n",
    "    return math.sin(2*x+1)**5\n",
    "for i in y:\n",
    "    xx = derivative(f, i, dx=1e-6 ) #значение первой производной\n",
    "    xxx.append(xx)\n",
    "xxx"
   ]
  },
  {
   "cell_type": "code",
   "execution_count": 64,
   "metadata": {},
   "outputs": [
    {
     "data": {
      "text/plain": [
       "[-4.410779033681145,\n",
       " -10.229650460047424,\n",
       " 8.061329381803262,\n",
       " 19.207080370620133,\n",
       " -1.291189377639057,\n",
       " -10.006301343068458,\n",
       " -1.3529717710764055,\n",
       " 0.21354695355774167,\n",
       " 7.486275488410854,\n",
       " 7.2093442327059165,\n",
       " -14.835466188856117,\n",
       " -15.011547560561667,\n",
       " 7.071176977291316,\n",
       " 7.577591332186273,\n",
       " 0.2308973460563371,\n",
       " -1.301028946035232,\n",
       " -9.954148616486691,\n",
       " -1.4994672170587364,\n",
       " 19.129475781198835,\n",
       " 8.289702257968656,\n",
       " -10.181133713871304,\n",
       " -4.502093142733088,\n",
       " -0.0006794932990692985,\n",
       " 3.5517699892295695,\n",
       " 10.559331187209864,\n",
       " -5.812128556215157,\n",
       " -19.776846826857764,\n",
       " -0.8111289417911394,\n",
       " 10.41496056064517,\n",
       " 1.919769464925336,\n",
       " -0.08656214918576106,\n",
       " -6.571559268975236,\n",
       " -8.421541242142894,\n",
       " 12.994272324817757,\n",
       " 16.600609775707653,\n",
       " -5.5871973714261,\n",
       " -8.431304265865691,\n",
       " -0.4487923433490332,\n",
       " 0.8543874158509213,\n",
       " 9.356709851360279,\n",
       " 3.442079954396604,\n",
       " -18.191115280785652,\n",
       " -10.468181876888139,\n",
       " 9.56085211001323,\n",
       " 5.415352194448886,\n",
       " 0.015066800037248196,\n",
       " -2.7660278581476128,\n",
       " -10.638101510807019,\n",
       " 3.5514924334734133,\n",
       " 19.99778120875817]"
      ]
     },
     "execution_count": 64,
     "metadata": {},
     "output_type": "execute_result"
    }
   ],
   "source": [
    "xxx2 = []\n",
    "def f(x):\n",
    "    return math.sin(2*x+1)**5\n",
    "for i in y:\n",
    "    xx = derivative(f, i, dx=1e-6, n = 2 ) #значение второй производной\n",
    "    xxx2.append(xx)\n",
    "xxx2"
   ]
  },
  {
   "cell_type": "code",
   "execution_count": 50,
   "metadata": {},
   "outputs": [],
   "source": [
    "import matplotlib.pyplot as plt"
   ]
  },
  {
   "cell_type": "code",
   "execution_count": 70,
   "metadata": {},
   "outputs": [
    {
     "data": {
      "text/plain": [
       "(-6.0, 6.0)"
      ]
     },
     "execution_count": 70,
     "metadata": {},
     "output_type": "execute_result"
    },
    {
     "data": {
      "image/png": "[encoded data removed]",
      "text/plain": [
       "<Figure size 432x288 with 1 Axes>"
      ]
     },
     "metadata": {
      "needs_background": "light"
     },
     "output_type": "display_data"
    }
   ],
   "source": [
    "plt.plot(y, xxx)\n",
    "plt.plot(y,xxx2)\n",
    "plt.ylim([-25, 25])\n",
    "plt.xlim([-6, 6])"
   ]
  },
  {
   "cell_type": "code",
   "execution_count": null,
   "metadata": {},
   "outputs": [],
   "source": []
  }
 ],
 "metadata": {
  "kernelspec": {
   "display_name": "Python 3",
   "language": "python",
   "name": "python3"
  },
  "language_info": {
   "codemirror_mode": {
    "name": "ipython",
    "version": 3
   },
   "file_extension": ".py",
   "mimetype": "text/x-python",
   "name": "python",
   "nbconvert_exporter": "python",
   "pygments_lexer": "ipython3",
   "version": "3.8.5"
  }
 },
 "nbformat": 4,
 "nbformat_minor": 4
}
