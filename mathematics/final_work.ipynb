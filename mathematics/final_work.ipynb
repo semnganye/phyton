{
 "cells": [
  {
   "cell_type": "markdown",
   "metadata": {},
   "source": [
    "# Итоговая работа."
   ]
  },
  {
   "cell_type": "code",
   "execution_count": 1,
   "metadata": {},
   "outputs": [],
   "source": [
    "import matplotlib.pyplot as plt\n",
    "import numpy as np\n",
    "\n",
    "from scipy.optimize import minimize\n",
    "%matplotlib inline"
   ]
  },
  {
   "cell_type": "markdown",
   "metadata": {},
   "source": [
    "\n",
    "Задание 1\n",
    "\n",
    "Дана матрица рейтингов фильмов (строки - пользователи (10 человек), столбцы - фильмы (15 фильмов))\n"
   ]
  },
  {
   "cell_type": "code",
   "execution_count": 2,
   "metadata": {},
   "outputs": [],
   "source": [
    "raitings = np.array([[ 4,  4,  9,  4,  1,  6, 10,  7,  9,  6,  9,  2,  8,  6,  6],\n",
    "                     [ 9,  2,  5, 10,  7,  8, 10,  5,  6,  2,  1,  6,  8,  9,  7],\n",
    "                     [ 1,  6,  8,  8,  4,  9,  3,  8, 10,  5,  2,  6,  8,  1,  6],\n",
    "                     [ 6,  1,  9,  7,  7,  9,  2,  3,  5,  1,  6,  6,  3,  2,  7],\n",
    "                     [ 3,  7,  3,  5,  7,  9,  9,  6,  2,  9,  1,  2,  8, 10,  6],\n",
    "                     [ 8,  3,  7,  3,  8,  6,  1,  8,  8,  6,  1,  9,  4, 10,  1],\n",
    "                     [ 9,  8,  4,  8,  8, 10,  6,  1,  1,  2,  9,  5,  2,  7,  2],\n",
    "                     [ 4,  1,  6,  4,  3, 10,  4,  4,  2,  8,  7,  9,  3,  8,  3],\n",
    "                     [ 2,  7,  7,  6, 10,  6,  8,  9,  8,  6, 10,  1,  7, 10,  4],\n",
    "                     [ 5, 10,  8,  8,  9,  7,  2,  9,  9, 10,  8,  8,  8,  6, 10]])"
   ]
  },
  {
   "cell_type": "markdown",
   "metadata": {},
   "source": [
    "a) Необходимо найти наиболее похожего пользователя по косинусной метрике для каждого из (ответ: 10 пар вида (x, y), где y - наиболее похожий пользователь на пользователя x)."
   ]
  },
  {
   "cell_type": "code",
   "execution_count": 3,
   "metadata": {},
   "outputs": [],
   "source": [
    "from sklearn.metrics import pairwise_distances"
   ]
  },
  {
   "cell_type": "code",
   "execution_count": 4,
   "metadata": {},
   "outputs": [
    {
     "data": {
      "text/plain": [
       "array([[0.        , 0.17397081, 0.15078471, 0.21659884, 0.18082368,\n",
       "        0.25881452, 0.27264172, 0.19032478, 0.08934018, 0.13989224],\n",
       "       [0.17397081, 0.        , 0.18765675, 0.15364663, 0.12861948,\n",
       "        0.17286893, 0.17370316, 0.19973997, 0.17473692, 0.18031873],\n",
       "       [0.15078471, 0.18765675, 0.        , 0.15330626, 0.21605701,\n",
       "        0.20902015, 0.32383777, 0.23710448, 0.17887923, 0.08126949],\n",
       "       [0.21659884, 0.15364663, 0.15330626, 0.        , 0.30846591,\n",
       "        0.21334208, 0.16725789, 0.17065333, 0.2229334 , 0.1411313 ],\n",
       "       [0.18082368, 0.12861948, 0.21605701, 0.30846591, 0.        ,\n",
       "        0.2235566 , 0.21799532, 0.18763131, 0.12051523, 0.15425211],\n",
       "       [0.25881452, 0.17286893, 0.20902015, 0.21334208, 0.2235566 ,\n",
       "        0.        , 0.25988199, 0.15548315, 0.19377124, 0.14485092],\n",
       "       [0.27264172, 0.17370316, 0.32383777, 0.16725789, 0.21799532,\n",
       "        0.25988199, 0.        , 0.17330826, 0.18869956, 0.20845282],\n",
       "       [0.19032478, 0.19973997, 0.23710448, 0.17065333, 0.18763131,\n",
       "        0.15548315, 0.17330826, 0.        , 0.2018724 , 0.16317771],\n",
       "       [0.08934018, 0.17473692, 0.17887923, 0.2229334 , 0.12051523,\n",
       "        0.19377124, 0.18869956, 0.2018724 , 0.        , 0.09906203],\n",
       "       [0.13989224, 0.18031873, 0.08126949, 0.1411313 , 0.15425211,\n",
       "        0.14485092, 0.20845282, 0.16317771, 0.09906203, 0.        ]])"
      ]
     },
     "execution_count": 4,
     "metadata": {},
     "output_type": "execute_result"
    }
   ],
   "source": [
    "raitings_cosine = pairwise_distances(raitings, metric='cosine')\n",
    "raitings_cosine"
   ]
  },
  {
   "cell_type": "code",
   "execution_count": 19,
   "metadata": {},
   "outputs": [
    {
     "name": "stdout",
     "output_type": "stream",
     "text": [
      "Пользователь №1 наиболее похож на пользователя №7\n",
      "Пользователь №2 наиболее похож на пользователя №8\n",
      "Пользователь №3 наиболее похож на пользователя №7\n",
      "Пользователь №4 наиболее похож на пользователя №5\n",
      "Пользователь №5 наиболее похож на пользователя №4\n",
      "Пользователь №6 наиболее похож на пользователя №7\n",
      "Пользователь №7 наиболее похож на пользователя №3\n",
      "Пользователь №8 наиболее похож на пользователя №3\n",
      "Пользователь №9 наиболее похож на пользователя №4\n",
      "Пользователь №10 наиболее похож на пользователя №7\n"
     ]
    }
   ],
   "source": [
    "x = 0\n",
    "for i in raitings_cosine:\n",
    "    x=x+1\n",
    "    y=np.array(i).argmax()\n",
    "    print(f'Пользователь №{x} наиболее похож на пользователя №{y+1}')"
   ]
  },
  {
   "cell_type": "markdown",
   "metadata": {},
   "source": [
    "b) Предположим, вы захотели сжать признаковые описания пользователя с 15 фильмов, до, скажем, 5-ти признаков, как вы это сделаете?"
   ]
  },
  {
   "cell_type": "code",
   "execution_count": 8,
   "metadata": {},
   "outputs": [],
   "source": [
    "from sklearn.decomposition import PCA"
   ]
  },
  {
   "cell_type": "code",
   "execution_count": 9,
   "metadata": {},
   "outputs": [],
   "source": [
    "pca = PCA(n_components=5)"
   ]
  },
  {
   "cell_type": "code",
   "execution_count": 10,
   "metadata": {},
   "outputs": [
    {
     "data": {
      "text/plain": [
       "PCA(n_components=5)"
      ]
     },
     "execution_count": 10,
     "metadata": {},
     "output_type": "execute_result"
    }
   ],
   "source": [
    "pca.fit(raitings)"
   ]
  },
  {
   "cell_type": "code",
   "execution_count": 11,
   "metadata": {},
   "outputs": [
    {
     "name": "stdout",
     "output_type": "stream",
     "text": [
      "[0.25373748 0.1970209  0.14113306 0.12956371 0.11289928]\n"
     ]
    }
   ],
   "source": [
    "print(pca.explained_variance_ratio_)"
   ]
  },
  {
   "cell_type": "code",
   "execution_count": 12,
   "metadata": {},
   "outputs": [
    {
     "name": "stdout",
     "output_type": "stream",
     "text": [
      "[16.91716582 14.90704109 12.61681323 12.08862725 11.28446283]\n"
     ]
    }
   ],
   "source": [
    "print(pca.singular_values_)"
   ]
  },
  {
   "cell_type": "code",
   "execution_count": null,
   "metadata": {},
   "outputs": [],
   "source": [
    "\n",
    "Задание 2\n",
    "\n",
    "Вычислите производную tg^2(sin(x) + cos(2x+3)) в точке x_0=1 (на python и на бумаге).\n"
   ]
  },
  {
   "cell_type": "code",
   "execution_count": 23,
   "metadata": {},
   "outputs": [],
   "source": [
    "import math\n",
    "from scipy.misc import derivative"
   ]
  },
  {
   "cell_type": "code",
   "execution_count": 35,
   "metadata": {},
   "outputs": [
    {
     "data": {
      "text/plain": [
       "55.3859176464222"
      ]
     },
     "execution_count": 35,
     "metadata": {},
     "output_type": "execute_result"
    }
   ],
   "source": [
    "def f(x):\n",
    "    return math.tan(math.sin(x) + math.cos(2*x+3))**2\n",
    "derivative(f, 1.0, dx=1e-6 ) #значение производной"
   ]
  },
  {
   "cell_type": "code",
   "execution_count": 26,
   "metadata": {},
   "outputs": [],
   "source": [
    "from sympy import *"
   ]
  },
  {
   "cell_type": "code",
   "execution_count": 44,
   "metadata": {},
   "outputs": [],
   "source": [
    "x, y = symbols('x y')"
   ]
  },
  {
   "cell_type": "code",
   "execution_count": 45,
   "metadata": {},
   "outputs": [],
   "source": [
    "gfg_exp = tan(sin(x) + cos(2*x+3))**2"
   ]
  },
  {
   "cell_type": "code",
   "execution_count": 53,
   "metadata": {},
   "outputs": [
    {
     "data": {
      "text/latex": [
       "$\\displaystyle 2 \\left(- 2 \\sin{\\left(2 x + 3 \\right)} + \\cos{\\left(x \\right)}\\right) \\left(\\tan^{2}{\\left(\\sin{\\left(x \\right)} + \\cos{\\left(2 x + 3 \\right)} \\right)} + 1\\right) \\tan{\\left(\\sin{\\left(x \\right)} + \\cos{\\left(2 x + 3 \\right)} \\right)}$"
      ],
      "text/plain": [
       "2*(-2*sin(2*x + 3) + cos(x))*(tan(sin(x) + cos(2*x + 3))**2 + 1)*tan(sin(x) + cos(2*x + 3))"
      ]
     },
     "execution_count": 53,
     "metadata": {},
     "output_type": "execute_result"
    }
   ],
   "source": [
    "dif = diff(gfg_exp, x)\n",
    "dif"
   ]
  },
  {
   "cell_type": "code",
   "execution_count": 52,
   "metadata": {},
   "outputs": [
    {
     "name": "stdout",
     "output_type": "stream",
     "text": [
      "Значение производной 55.3859176353379\n"
     ]
    }
   ],
   "source": [
    "print(f'Значение производной {dif.evalf(subs={x:1})}')"
   ]
  },
  {
   "cell_type": "markdown",
   "metadata": {},
   "source": [
    "\n",
    "Задание 3\n",
    "\n",
    "Дана функция с неизвестными параметрами a и b, вам также известны значения функции fx в точках x. Найдите оптимальные параметры a, b, минимизирующие абсолютную ошибку error.\n"
   ]
  },
  {
   "cell_type": "code",
   "execution_count": 20,
   "metadata": {},
   "outputs": [],
   "source": [
    "def f(x, a, b):\n",
    "    return np.e**a * np.sin(b*x) + x"
   ]
  },
  {
   "cell_type": "code",
   "execution_count": 21,
   "metadata": {},
   "outputs": [],
   "source": [
    "\n",
    "\n",
    "x = np.array([0.        , 0.26315789, 0.52631579, 0.78947368, 1.05263158,\n",
    "              1.31578947, 1.57894737, 1.84210526, 2.10526316, 2.36842105,\n",
    "              2.63157895, 2.89473684, 3.15789474, 3.42105263, 3.68421053,\n",
    "              3.94736842, 4.21052632, 4.47368421, 4.73684211, 5.        ])\n",
    "\n"
   ]
  },
  {
   "cell_type": "code",
   "execution_count": 22,
   "metadata": {},
   "outputs": [],
   "source": [
    "fx = np.array([  0.        , -12.01819092, -18.90968634, -17.68786571,\n",
    "                -8.7529108 ,   4.27524517,  16.06801336,  21.81250213,\n",
    "                19.22059845,   9.48411207,  -3.22273056, -13.48576488,\n",
    "               -16.91096359, -11.95866834,  -0.58630088,  12.56873816,\n",
    "                22.12489421,  24.20292139,  18.04522521,   6.33211092])"
   ]
  },
  {
   "cell_type": "code",
   "execution_count": 23,
   "metadata": {},
   "outputs": [
    {
     "data": {
      "image/png": "[encoded data removed]",
      "text/plain": [
       "<Figure size 432x288 with 1 Axes>"
      ]
     },
     "metadata": {
      "needs_background": "light"
     },
     "output_type": "display_data"
    }
   ],
   "source": [
    "plt.plot(x, fx)\n",
    "plt.show()"
   ]
  },
  {
   "cell_type": "code",
   "execution_count": 24,
   "metadata": {},
   "outputs": [],
   "source": [
    "def error(params):\n",
    "    return np.sum(np.abs(fx - f(x, params[0], params[1])))"
   ]
  },
  {
   "cell_type": "code",
   "execution_count": 25,
   "metadata": {},
   "outputs": [],
   "source": [
    "from scipy.optimize import minimize"
   ]
  },
  {
   "cell_type": "code",
   "execution_count": 41,
   "metadata": {},
   "outputs": [
    {
     "data": {
      "text/plain": [
       "     fun: 0.00014604881857582797\n",
       "   maxcv: 0.0\n",
       " message: 'Optimization terminated successfully.'\n",
       "    nfev: 723\n",
       "  status: 1\n",
       " success: True\n",
       "       x: array([[  2.99999976,  -0.04981548,   0.25786441,   0.51190524,\n",
       "          0.774364  ,   1.03625998,   1.30977823,   1.57269367,\n",
       "          1.73596425,   1.86297436,   1.99758016,   2.215901  ,\n",
       "          3.21991341,   3.04952757,   3.25633263,   3.61924859,\n",
       "          3.91672335,   4.11211523,   4.42329004,   4.87021828],\n",
       "       [ -2.4999998 , -12.23649946, -19.26641261, -18.05335421,\n",
       "         -9.11981596,   3.90696065,  15.70980886,  21.4529914 ,\n",
       "         18.7615507 ,   8.5380438 ,  -3.25440222, -13.73912451,\n",
       "        -17.19506218, -12.32218222,  -0.93044004,  12.25398536,\n",
       "         21.8020497 ,  23.90137051,  17.75099129,   5.90235223]])"
      ]
     },
     "execution_count": 41,
     "metadata": {},
     "output_type": "execute_result"
    }
   ],
   "source": [
    "res = minimize(error, [x,fx], method='COBYLA', tol=1e-6)\n",
    "res"
   ]
  },
  {
   "cell_type": "markdown",
   "metadata": {},
   "source": [
    "\n",
    "Задание 4\n",
    "\n",
    "Создайте собственную дискретную случайную величину с 20 значениями. Сгенерируйте 1000 выборок размера 50. Посчитайте среднее для каждой выборки. Постройте гистограмму распределения средних.\n"
   ]
  },
  {
   "cell_type": "code",
   "execution_count": 14,
   "metadata": {},
   "outputs": [],
   "source": [
    "value = np.random.randint(1, 100, size = 20)"
   ]
  },
  {
   "cell_type": "code",
   "execution_count": 17,
   "metadata": {},
   "outputs": [],
   "source": [
    "x = []\n",
    "for i in range(1000):\n",
    "    choise = np.random.choice(value, 50)\n",
    "    mean = np.mean(choise)\n",
    "    x.append(mean)"
   ]
  },
  {
   "cell_type": "code",
   "execution_count": 20,
   "metadata": {},
   "outputs": [
    {
     "data": {
      "text/plain": [
       "(array([  8.,  33.,  76., 178., 224., 222., 159.,  68.,  24.,   8.]),\n",
       " array([33.6  , 36.302, 39.004, 41.706, 44.408, 47.11 , 49.812, 52.514,\n",
       "        55.216, 57.918, 60.62 ]),\n",
       " <BarContainer object of 10 artists>)"
      ]
     },
     "execution_count": 20,
     "metadata": {},
     "output_type": "execute_result"
    },
    {
     "data": {
      "image/png": "[encoded data removed]",
      "text/plain": [
       "<Figure size 432x288 with 1 Axes>"
      ]
     },
     "metadata": {
      "needs_background": "light"
     },
     "output_type": "display_data"
    }
   ],
   "source": [
    "plt.hist(x)"
   ]
  },
  {
   "cell_type": "markdown",
   "metadata": {},
   "source": [
    "\n",
    "Задание 5\n",
    "\n",
    "Найдите собственные значения и собственные вектора матрицы (на python и на бумаге):\n"
   ]
  },
  {
   "cell_type": "code",
   "execution_count": 9,
   "metadata": {},
   "outputs": [
    {
     "name": "stdout",
     "output_type": "stream",
     "text": [
      "[[1 4]\n",
      " [1 1]]\n"
     ]
    }
   ],
   "source": [
    "m = np.array([[1, 4],\n",
    "              [1, 1]])\n",
    "print(m)"
   ]
  },
  {
   "cell_type": "code",
   "execution_count": 10,
   "metadata": {},
   "outputs": [],
   "source": [
    "from numpy import linalg as LA"
   ]
  },
  {
   "cell_type": "code",
   "execution_count": 11,
   "metadata": {},
   "outputs": [],
   "source": [
    "w,v = LA.eig(m)"
   ]
  },
  {
   "cell_type": "code",
   "execution_count": 12,
   "metadata": {},
   "outputs": [
    {
     "data": {
      "text/plain": [
       "array([ 3., -1.])"
      ]
     },
     "execution_count": 12,
     "metadata": {},
     "output_type": "execute_result"
    }
   ],
   "source": [
    "w"
   ]
  },
  {
   "cell_type": "code",
   "execution_count": 13,
   "metadata": {},
   "outputs": [
    {
     "data": {
      "text/plain": [
       "array([[ 0.89442719, -0.89442719],\n",
       "       [ 0.4472136 ,  0.4472136 ]])"
      ]
     },
     "execution_count": 13,
     "metadata": {},
     "output_type": "execute_result"
    }
   ],
   "source": [
    "v"
   ]
  },
  {
   "cell_type": "markdown",
   "metadata": {},
   "source": [
    "(1-h)*(1-h)-4*1=0\n",
    "1-h-h+h**2-4=0\n",
    "h**2-2h-3=0 #составил квадратное уравнение\n",
    "D=2**2-(-4*1*(-3))\n",
    "D=16\n",
    "w1=(2-4)/2=-1 #собственное значение 1\n",
    "w2=(2+4)/2=3  #собственное значение 2"
   ]
  },
  {
   "cell_type": "code",
   "execution_count": null,
   "metadata": {},
   "outputs": [],
   "source": [
    "[1-3, 4]\n",
    "[1, 1-3]\n",
    "-2x+4y=0\n",
    "1x-2y=0\n",
    "x=2y #собстенный вектор при собственном значении 3"
   ]
  },
  {
   "cell_type": "code",
   "execution_count": null,
   "metadata": {},
   "outputs": [],
   "source": [
    "[1+1, 4]\n",
    "[1, 1+1]\n",
    "2x+4y=0\n",
    "x+2y=0\n",
    "x=-2y #собстенный вектор при собственном значении -1"
   ]
  }
 ],
 "metadata": {
  "kernelspec": {
   "display_name": "Python 3",
   "language": "python",
   "name": "python3"
  },
  "language_info": {
   "codemirror_mode": {
    "name": "ipython",
    "version": 3
   },
   "file_extension": ".py",
   "mimetype": "text/x-python",
   "name": "python",
   "nbconvert_exporter": "python",
   "pygments_lexer": "ipython3",
   "version": "3.8.5"
  }
 },
 "nbformat": 4,
 "nbformat_minor": 4
}
