{
 "cells": [
  {
   "cell_type": "markdown",
   "metadata": {},
   "source": [
    "\n",
    "Уровень 0:\n",
    "\n",
    "    Задание 1:\n",
    "\n",
    "Монетку подбрасывают 15 раз, найдите вероятность выпадения простого числа орлов.\n"
   ]
  },
  {
   "cell_type": "code",
   "execution_count": 25,
   "metadata": {},
   "outputs": [],
   "source": [
    "import math \n",
    "import numpy as np\n",
    "import matplotlib.pyplot as plt"
   ]
  },
  {
   "cell_type": "markdown",
   "metadata": {},
   "source": [
    "Формула Бернулли\n",
    "p = C/2**n\n",
    "C = n!/k!*(n-k)!"
   ]
  },
  {
   "cell_type": "code",
   "execution_count": 23,
   "metadata": {},
   "outputs": [
    {
     "name": "stdout",
     "output_type": "stream",
     "text": [
      "Вероятность выпадения орла 2 раза составляет 0.003204345703125\n",
      "Вероятность выпадения орла 3 раза составляет 0.013885498046875\n",
      "Вероятность выпадения орла 5 раз составляет 0.091644287109375\n",
      "Вероятность выпадения орла 7 раз составляет 0.196380615234375\n",
      "Вероятность выпадения орла 11 раз составляет 0.041656494140625\n",
      "Вероятность выпадения орла 13 раз составляет 0.003204345703125\n"
     ]
    }
   ],
   "source": [
    "n = 15\n",
    " \n",
    "for k in range(2, n+1): #находим простое число\n",
    " \n",
    "    prime = True\n",
    "    \n",
    "    for i in range(2, k):\n",
    "        if k%i == 0:\n",
    "            prime = False\n",
    "            break\n",
    " \n",
    "    if prime:\n",
    "        C = math.factorial(n)/(math.factorial(k)*math.factorial(n-k))\n",
    "        p = C/2**n #находим вероятность выпадения орла\n",
    "        if 1<k<5:\n",
    "            print(f'Вероятность выпадения орла {k} раза составляет {p}')\n",
    "        else:\n",
    "            print(f'Вероятность выпадения орла {k} раз составляет {p}')"
   ]
  },
  {
   "cell_type": "markdown",
   "metadata": {},
   "source": [
    "\n",
    "\n",
    "    Задание 2:\n",
    "\n",
    "Создайте свою дискретную случайную величину с не менее, чем 10 значениями. Просемплируйте 1000 случайных значений, постройте гистограмму плотности распределения по выборке, посчитайте среднее, дисперсию и медиану.\n"
   ]
  },
  {
   "cell_type": "code",
   "execution_count": 41,
   "metadata": {},
   "outputs": [],
   "source": [
    "value = []\n",
    "for i in range(1000):\n",
    "    pop = np.random.randint(80)\n",
    "    value.append(pop)"
   ]
  },
  {
   "cell_type": "code",
   "execution_count": 43,
   "metadata": {},
   "outputs": [
    {
     "data": {
      "text/plain": [
       "(array([ 98.,  98., 102.,  86., 103.,  84., 104., 110., 116.,  99.]),\n",
       " array([ 0. ,  7.9, 15.8, 23.7, 31.6, 39.5, 47.4, 55.3, 63.2, 71.1, 79. ]),\n",
       " <BarContainer object of 10 artists>)"
      ]
     },
     "execution_count": 43,
     "metadata": {},
     "output_type": "execute_result"
    },
    {
     "data": {
      "image/png": "[encoded data removed]",
      "text/plain": [
       "<Figure size 432x288 with 1 Axes>"
      ]
     },
     "metadata": {
      "needs_background": "light"
     },
     "output_type": "display_data"
    }
   ],
   "source": [
    "plt.hist(value)"
   ]
  },
  {
   "cell_type": "code",
   "execution_count": 47,
   "metadata": {},
   "outputs": [
    {
     "name": "stdout",
     "output_type": "stream",
     "text": [
      "Среднее значение составляет 40.312\n",
      "Дисперсия равна 541.2746559999999\n",
      "Медиана равна 41.0\n"
     ]
    }
   ],
   "source": [
    "print(f'Среднее значение составляет {np.mean(value)}')\n",
    "print(f'Дисперсия равна {np.var(value)}')\n",
    "print(f'Медиана равна {np.median(value)}')"
   ]
  },
  {
   "cell_type": "markdown",
   "metadata": {},
   "source": [
    "\n",
    "Уровень 1:\n",
    "\n",
    "    Задание 3:\n",
    "\n",
    "Пусть брошены 3 уравновешенные монеты.\n",
    "\n",
    "Рассмотрим 3 события:\n",
    "\n",
    "A1 - монеты 1 и 2 упали одной и той же стороной;\n",
    "\n",
    "A2 - монеты 2 и 3 упали одной и той же стороной;\n",
    "\n",
    "A3 - монеты 1 и 3 упали одной и той же стороной.\n",
    "\n",
    "Покажите, почему эти 3 события (A1, A2, A3) являются попарно независимыми, но не являются независимыми в совокупности.\n"
   ]
  },
  {
   "cell_type": "markdown",
   "metadata": {},
   "source": [
    "\n",
    "Легко проверить, что любые два события из этого набора независимы. Все же три в совокупности зависимы, ибо зная, например, что события  A1, A2 произошли, мы знаем точно, что A3 также произошло. "
   ]
  },
  {
   "cell_type": "markdown",
   "metadata": {},
   "source": [
    "\n",
    "\n",
    "    Задание 4 (формула полной вероятности):\n",
    "\n",
    "В магазин привезли устройства с 3-х разных предприятий.\n",
    "\n",
    "Соотношение устройств следующее: 20% - продукция первого предприятия, 30% - продукция второго предприятия, 50% - продукция третьего предприятия; далее, 10% продукции первого предприятия высшего сорта, на втором предприятии - 5% и на третьем - 20% продукции высшего сорта.\n",
    "\n",
    "Найти вероятность того, что случайно купленная новая продукция окажется высшего сорта.\n"
   ]
  },
  {
   "cell_type": "code",
   "execution_count": 51,
   "metadata": {},
   "outputs": [
    {
     "name": "stdout",
     "output_type": "stream",
     "text": [
      "Вероятность того, что продукция окажется высщего сорта составляет 13.5%\n"
     ]
    }
   ],
   "source": [
    "P1 = 0.2 #продукция первого завода\n",
    "P2 = 0.3 #продукция второго завода\n",
    "P3 = 0.5 #продукция третьего завода\n",
    "sort_p1 = 0.1 #продукции первого предприятия высшего сорта\n",
    "sort_p2 = 0.05 #продукции второго предприятия высшего сорта\n",
    "sort_p3 = 0.2 #продукции третьего предприятия высшего сорта\n",
    "P = P1*sort_p1 + P2*sort_p2 + P3*sort_p3\n",
    "print(f'Вероятность того, что продукция окажется высщего сорта составляет {P*100}%')"
   ]
  },
  {
   "cell_type": "code",
   "execution_count": null,
   "metadata": {},
   "outputs": [],
   "source": []
  }
 ],
 "metadata": {
  "kernelspec": {
   "display_name": "Python 3",
   "language": "python",
   "name": "python3"
  },
  "language_info": {
   "codemirror_mode": {
    "name": "ipython",
    "version": 3
   },
   "file_extension": ".py",
   "mimetype": "text/x-python",
   "name": "python",
   "nbconvert_exporter": "python",
   "pygments_lexer": "ipython3",
   "version": "3.8.5"
  }
 },
 "nbformat": 4,
 "nbformat_minor": 4
}
