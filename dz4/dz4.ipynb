{
 "cells": [
  {
   "cell_type": "markdown",
   "metadata": {},
   "source": [
    "Задача 1. Вам нужно помочь секретарю автоматизировать работу. Для этого нужно написать программу, которая будет на основе хранимых данных исполнять пользовательские команды."
   ]
  },
  {
   "cell_type": "markdown",
   "metadata": {},
   "source": [
    "Общие требования к программе:\n",
    "\n",
    "код должен быть грамотно декомпозирован (каждая функция отвечает за свою конкретную задачу, дублирующийся функционал переиспользуется, а его код не повторяется);\n",
    "в коде отсутствуют глобальные переменные (за исключением documents и directories);\n",
    "пользовательский ввод обрабатывается в цикле while до тех пор, пока пользователь явно не завершит программу (вводом команды “q”)."
   ]
  },
  {
   "cell_type": "markdown",
   "metadata": {},
   "source": [
    "Задание 1\n",
    "Пункт 1. Пользователь по команде “p” может узнать владельца документа по его номеру"
   ]
  },
  {
   "cell_type": "code",
   "execution_count": 1,
   "metadata": {},
   "outputs": [],
   "source": [
    "documents = [\n",
    "{'type': 'passport', 'number': '2207 876234', 'name': 'Василий Гупкин'},\n",
    "{'type': 'invoice', 'number': '11-2', 'name': 'Геннадий Покемонов'},\n",
    "{'type': 'insurance', 'number': '10006', 'name': 'Аристарх Павлов'}\n",
    "]"
   ]
  },
  {
   "cell_type": "code",
   "execution_count": 2,
   "metadata": {},
   "outputs": [],
   "source": [
    "directories = {\n",
    "'1': ['2207 876234', '11-2'],\n",
    "'2': ['10006'],\n",
    "'3': []\n",
    "}"
   ]
  },
  {
   "cell_type": "markdown",
   "metadata": {},
   "source": [
    "Пункт 1. Пользователь по команде “p” может узнать владельца документа по его номеру"
   ]
  },
  {
   "cell_type": "code",
   "execution_count": 32,
   "metadata": {},
   "outputs": [
    {
     "name": "stdout",
     "output_type": "stream",
     "text": [
      "Введите номер документа:10006\n",
      "Аристарх Павлов\n"
     ]
    }
   ],
   "source": [
    "def p():\n",
    "    found = False\n",
    "    num = input(\"Введите номер документа:\")\n",
    "    for dic in documents:\n",
    "        if \"number\" in dic.keys() and dic[\"number\"] == num:\n",
    "            print(dic[\"name\"])\n",
    "            found = True\n",
    "\n",
    "    if not found:\n",
    "        print(\"Документ не найден в базе\")\n",
    "\n",
    "p()"
   ]
  },
  {
   "cell_type": "code",
   "execution_count": 38,
   "metadata": {},
   "outputs": [
    {
     "name": "stdout",
     "output_type": "stream",
     "text": [
      "Введите номер документа:45\n",
      "Документ не найден в базе\n"
     ]
    }
   ],
   "source": [
    "def p():\n",
    "    found = False\n",
    "    num = input('Введите номер документа:')\n",
    "    for dic in documents:\n",
    "        for key,value in dic.items():\n",
    "            if key == 'number' and value == num:\n",
    "                print(dic['name'])\n",
    "                found = True\n",
    "\n",
    "    if not found:\n",
    "        print('Документ не найден в базе')\n",
    "\n",
    "p()"
   ]
  },
  {
   "cell_type": "markdown",
   "metadata": {},
   "source": [
    "Пункт 2. Пользователь по команде “s” может по номеру документа узнать на какой полке он хранится"
   ]
  },
  {
   "cell_type": "code",
   "execution_count": 44,
   "metadata": {},
   "outputs": [
    {
     "name": "stdout",
     "output_type": "stream",
     "text": [
      "Введите номер документа:11-2\n",
      "1\n"
     ]
    }
   ],
   "source": [
    "def s():\n",
    "    num = input('Введите номер документа:')\n",
    "    dir = list(filter(lambda e: num in e[1], directories.items()))[0]\n",
    "    print(dir[0])\n",
    "s()"
   ]
  },
  {
   "cell_type": "code",
   "execution_count": 48,
   "metadata": {},
   "outputs": [
    {
     "name": "stdout",
     "output_type": "stream",
     "text": [
      "Введите номер документа:2207 876234\n"
     ]
    },
    {
     "data": {
      "text/plain": [
       "'Документ хранится на полке:1'"
      ]
     },
     "execution_count": 48,
     "metadata": {},
     "output_type": "execute_result"
    }
   ],
   "source": [
    "def sh():\n",
    "    num = input('Введите номер документа:')\n",
    "    res = 'Документ не найден в базе'\n",
    "    for i in directories:\n",
    "        if num in directories[i]:\n",
    "             res = 'Документ хранится на полке:' + i\n",
    "    return res\n",
    " \n",
    "sh()"
   ]
  }
 ],
 "metadata": {
  "kernelspec": {
   "display_name": "Python 3",
   "language": "python",
   "name": "python3"
  },
  "language_info": {
   "codemirror_mode": {
    "name": "ipython",
    "version": 3
   },
   "file_extension": ".py",
   "mimetype": "text/x-python",
   "name": "python",
   "nbconvert_exporter": "python",
   "pygments_lexer": "ipython3",
   "version": "3.8.5"
  }
 },
 "nbformat": 4,
 "nbformat_minor": 4
}
