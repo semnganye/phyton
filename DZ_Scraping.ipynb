{
 "cells": [
  {
   "cell_type": "markdown",
   "metadata": {},
   "source": [
    "\n",
    "Задание 1.\n",
    "Обязательная часть\n",
    "\n",
    "Будем парсить страницу со свежеми новостям на habr.com/ru/all/.\n",
    "\n",
    "Вам необходимо собирать только те статьи, в которых встречается хотя бы одно требуемое ключевое слово. Эти слова определяем в начале кода в переменной, например:\n",
    "\n",
    "KEYWORDS = ['python', 'парсинг']\n",
    "\n",
    "Поиск вести по всей доступной preview-информации (это информация, доступная непосредственно с текущей страницы).\n",
    "\n",
    "В итоге должен формироваться датафрейм вида: <дата> - <заголовок> - <ссылка>\n"
   ]
  },
  {
   "cell_type": "markdown",
   "metadata": {},
   "source": [
    "# Совершенно не понял как сделать это задание. Пытался посмотреть пример из практики, но не понял как он работает. Как сделать, так чтобы находились статьи с python или парсинг? Это для меня не понятно"
   ]
  },
  {
   "cell_type": "code",
   "execution_count": 1,
   "metadata": {},
   "outputs": [],
   "source": [
    "KEYWORDS = ['python', 'парсинг']"
   ]
  },
  {
   "cell_type": "code",
   "execution_count": 4,
   "metadata": {},
   "outputs": [],
   "source": [
    "import requests"
   ]
  },
  {
   "cell_type": "code",
   "execution_count": 58,
   "metadata": {},
   "outputs": [],
   "source": [
    "import pandas as pd"
   ]
  },
  {
   "cell_type": "code",
   "execution_count": 51,
   "metadata": {},
   "outputs": [],
   "source": [
    "URL = 'https://habr.com/ru/search/'\n",
    "params = {\n",
    "    'q': 'python'\n",
    "}"
   ]
  },
  {
   "cell_type": "code",
   "execution_count": 73,
   "metadata": {},
   "outputs": [
    {
     "data": {
      "text/plain": [
       "['https://habr.com/ru/company/vdsina/blog/563432/#habracut',\n",
       " 'https://habr.com/ru/news/t/498364/#habracut',\n",
       " 'https://habr.com/ru/news/t/531402/#habracut',\n",
       " 'https://habr.com/ru/company/itsumma/news/t/490834/#habracut',\n",
       " 'https://habr.com/ru/news/t/505096/#habracut',\n",
       " 'https://habr.com/ru/news/t/527858/#habracut',\n",
       " 'https://habr.com/ru/news/t/473926/#habracut',\n",
       " 'https://habr.com/ru/news/t/519414/#habracut',\n",
       " 'https://habr.com/ru/post/147281/#habracut',\n",
       " 'https://habr.com/ru/post/161931/#habracut',\n",
       " 'https://habr.com/ru/post/168083/#habracut',\n",
       " 'https://habr.com/ru/post/168827/#habracut',\n",
       " 'https://habr.com/ru/post/169639/#habracut',\n",
       " 'https://habr.com/ru/post/205944/#habracut',\n",
       " 'https://habr.com/ru/company/mailru/blog/337364/#habracut',\n",
       " 'https://habr.com/ru/company/ods/blog/348260/#habracut',\n",
       " 'https://habr.com/ru/company/oleg-bunin/blog/418449/#habracut',\n",
       " 'https://habr.com/ru/company/otus/blog/425233/#habracut',\n",
       " 'https://habr.com/ru/company/mailru/blog/454324/#habracut',\n",
       " 'https://habr.com/ru/post/455796/#habracut']"
      ]
     },
     "execution_count": 73,
     "metadata": {},
     "output_type": "execute_result"
    }
   ],
   "source": [
    "# находим ссылки\n",
    "def get_all_links(url, query):\n",
    "    params = {\n",
    "        'q': query,\n",
    "    }\n",
    "    res = requests.get(URL, params)\n",
    "    soup = BeautifulSoup(res.text)\n",
    "    news_blocks = soup.find_all('div', class_='post__body')\n",
    "    a_list = list(map(lambda x: x.find('a').get('href'), news_blocks))\n",
    "\n",
    "    return a_list\n",
    "\n",
    "all_links = get_all_links(URL, 'python')\n",
    "all_links"
   ]
  },
  {
   "cell_type": "code",
   "execution_count": 77,
   "metadata": {},
   "outputs": [],
   "source": [
    "import pandas as pd"
   ]
  },
  {
   "cell_type": "code",
   "execution_count": 82,
   "metadata": {},
   "outputs": [
    {
     "name": "stdout",
     "output_type": "stream",
     "text": [
      "2020-04-21\n",
      "\n",
      "Вышел Python 2.7.18, последний релиз ветки Python 2.x\n",
      "\n",
      "2020-12-04\n",
      "\n",
      "Python как компилируемый статически типизированный язык программирования\n",
      "\n",
      "2020-03-03\n",
      "\n",
      "В начале этого года Python сместил Java и стал вторым по популярности языком программирования среди разработчиков\n",
      "\n",
      "2020-06-03\n",
      "\n",
      "Вышла версия 0.0.2 snakeware — дистрибутива Linux, в котором всё работает через Python\n",
      "\n",
      "2020-11-13\n",
      "\n",
      "Создатель Python Гвидо ван Россум выходит на работу в Microsoft\n",
      "\n",
      "2019-10-31\n",
      "\n",
      "Создатель Python Гвидо ван Россум ушел из Dropbox на пенсию\n",
      "\n",
      "2020-09-16\n",
      "\n",
      "Астрономам порекомендовали меньше использовать суперкомпьютеры и Python из-за вреда экологии\n",
      "\n",
      "2012-07-09\n",
      "\n",
      "Мысли о Python 3\n",
      "\n",
      "2012-12-09\n",
      "\n",
      "Дружим Python 3 с MS Visual C++. Строим мост в Boost.Python с автоматической перекодировкой\n",
      "\n",
      "2013-02-03\n",
      "\n",
      "Объединяя C++ и Python. Тонкости Boost.Python. Часть первая\n",
      "\n",
      "2013-02-10\n",
      "\n",
      "Конвертация типов в Boost.Python. Делаем преобразование между привычными типами C++ и Python\n",
      "\n",
      "2013-02-17\n",
      "\n",
      "Путешествие исключений между C++ и Python или «Туда и обратно»\n",
      "\n",
      "2013-12-18\n",
      "\n",
      "Python на Хабре\n",
      "\n",
      "2017-09-07\n",
      "\n",
      "Что за чёрт, Python\n",
      "\n",
      "2018-11-08\n",
      "\n",
      "Совмещение R и Python: зачем, когда и как?\n",
      "\n",
      "2018-08-29\n",
      "\n",
      "Бинарные модули для Python\n",
      "\n",
      "2018-10-03\n",
      "\n",
      "Python 3 в Facebook\n",
      "\n",
      "2019-06-03\n",
      "\n",
      "Указатели в Python: в чём суть?\n",
      "\n",
      "2019-06-12\n",
      "\n",
      "Объектно-ориентированное программирование в Java и Python: сходства и отличия\n",
      "\n",
      "2020-02-05\n",
      "\n",
      "Python Gateway в InterSystems IRIS\n",
      "\n"
     ]
    }
   ],
   "source": [
    "# собираем даты, заголовки\n",
    "for link in all_links:\n",
    "    soup = BeautifulSoup(requests.get(link).text)\n",
    "    date = pd.to_datetime(soup.find('span', class_='post__time').get('data-time_published'), dayfirst=True).date()\n",
    "    print(date)\n",
    "    title = soup.find('h1', class_='post__title').text\n",
    "    print(title)"
   ]
  },
  {
   "cell_type": "code",
   "execution_count": 85,
   "metadata": {},
   "outputs": [
    {
     "data": {
      "text/html": [
       "<div>\n",
       "<style scoped>\n",
       "    .dataframe tbody tr th:only-of-type {\n",
       "        vertical-align: middle;\n",
       "    }\n",
       "\n",
       "    .dataframe tbody tr th {\n",
       "        vertical-align: top;\n",
       "    }\n",
       "\n",
       "    .dataframe thead th {\n",
       "        text-align: right;\n",
       "    }\n",
       "</style>\n",
       "<table border=\"1\" class=\"dataframe\">\n",
       "  <thead>\n",
       "    <tr style=\"text-align: right;\">\n",
       "      <th></th>\n",
       "      <th>date</th>\n",
       "      <th>title</th>\n",
       "      <th>link</th>\n",
       "    </tr>\n",
       "  </thead>\n",
       "  <tbody>\n",
       "    <tr>\n",
       "      <th>0</th>\n",
       "      <td>2020-04-21</td>\n",
       "      <td>Вышел Python 2.7.18, последний релиз ветки Pyt...</td>\n",
       "      <td>https://habr.com/ru/news/t/498364/#habracut</td>\n",
       "    </tr>\n",
       "    <tr>\n",
       "      <th>0</th>\n",
       "      <td>2020-12-04</td>\n",
       "      <td>Python как компилируемый статически типизирова...</td>\n",
       "      <td>https://habr.com/ru/news/t/531402/#habracut</td>\n",
       "    </tr>\n",
       "    <tr>\n",
       "      <th>0</th>\n",
       "      <td>2020-03-03</td>\n",
       "      <td>В начале этого года Python сместил Java и стал...</td>\n",
       "      <td>https://habr.com/ru/company/itsumma/news/t/490...</td>\n",
       "    </tr>\n",
       "    <tr>\n",
       "      <th>0</th>\n",
       "      <td>2020-06-03</td>\n",
       "      <td>Вышла версия 0.0.2 snakeware — дистрибутива Li...</td>\n",
       "      <td>https://habr.com/ru/news/t/505096/#habracut</td>\n",
       "    </tr>\n",
       "    <tr>\n",
       "      <th>0</th>\n",
       "      <td>2020-11-13</td>\n",
       "      <td>Создатель Python Гвидо ван Россум выходит на р...</td>\n",
       "      <td>https://habr.com/ru/news/t/527858/#habracut</td>\n",
       "    </tr>\n",
       "    <tr>\n",
       "      <th>0</th>\n",
       "      <td>2019-10-31</td>\n",
       "      <td>Создатель Python Гвидо ван Россум ушел из Drop...</td>\n",
       "      <td>https://habr.com/ru/news/t/473926/#habracut</td>\n",
       "    </tr>\n",
       "    <tr>\n",
       "      <th>0</th>\n",
       "      <td>2020-09-16</td>\n",
       "      <td>Астрономам порекомендовали меньше использовать...</td>\n",
       "      <td>https://habr.com/ru/news/t/519414/#habracut</td>\n",
       "    </tr>\n",
       "    <tr>\n",
       "      <th>0</th>\n",
       "      <td>2012-07-09</td>\n",
       "      <td>Мысли о Python 3</td>\n",
       "      <td>https://habr.com/ru/post/147281/#habracut</td>\n",
       "    </tr>\n",
       "    <tr>\n",
       "      <th>0</th>\n",
       "      <td>2012-12-09</td>\n",
       "      <td>Дружим Python 3 с MS Visual C++. Строим мост в...</td>\n",
       "      <td>https://habr.com/ru/post/161931/#habracut</td>\n",
       "    </tr>\n",
       "    <tr>\n",
       "      <th>0</th>\n",
       "      <td>2013-02-03</td>\n",
       "      <td>Объединяя C++ и Python. Тонкости Boost.Python....</td>\n",
       "      <td>https://habr.com/ru/post/168083/#habracut</td>\n",
       "    </tr>\n",
       "    <tr>\n",
       "      <th>0</th>\n",
       "      <td>2013-02-10</td>\n",
       "      <td>Конвертация типов в Boost.Python. Делаем преоб...</td>\n",
       "      <td>https://habr.com/ru/post/168827/#habracut</td>\n",
       "    </tr>\n",
       "    <tr>\n",
       "      <th>0</th>\n",
       "      <td>2013-02-17</td>\n",
       "      <td>Путешествие исключений между C++ и Python или ...</td>\n",
       "      <td>https://habr.com/ru/post/169639/#habracut</td>\n",
       "    </tr>\n",
       "    <tr>\n",
       "      <th>0</th>\n",
       "      <td>2013-12-18</td>\n",
       "      <td>Python на Хабре</td>\n",
       "      <td>https://habr.com/ru/post/205944/#habracut</td>\n",
       "    </tr>\n",
       "    <tr>\n",
       "      <th>0</th>\n",
       "      <td>2017-09-07</td>\n",
       "      <td>Что за чёрт, Python</td>\n",
       "      <td>https://habr.com/ru/company/mailru/blog/337364...</td>\n",
       "    </tr>\n",
       "    <tr>\n",
       "      <th>0</th>\n",
       "      <td>2018-11-08</td>\n",
       "      <td>Совмещение R и Python: зачем, когда и как?</td>\n",
       "      <td>https://habr.com/ru/company/ods/blog/348260/#h...</td>\n",
       "    </tr>\n",
       "    <tr>\n",
       "      <th>0</th>\n",
       "      <td>2018-08-29</td>\n",
       "      <td>Бинарные модули для Python</td>\n",
       "      <td>https://habr.com/ru/company/oleg-bunin/blog/41...</td>\n",
       "    </tr>\n",
       "    <tr>\n",
       "      <th>0</th>\n",
       "      <td>2018-10-03</td>\n",
       "      <td>Python 3 в Facebook</td>\n",
       "      <td>https://habr.com/ru/company/otus/blog/425233/#...</td>\n",
       "    </tr>\n",
       "    <tr>\n",
       "      <th>0</th>\n",
       "      <td>2019-06-03</td>\n",
       "      <td>Указатели в Python: в чём суть?</td>\n",
       "      <td>https://habr.com/ru/company/mailru/blog/454324...</td>\n",
       "    </tr>\n",
       "    <tr>\n",
       "      <th>0</th>\n",
       "      <td>2019-06-12</td>\n",
       "      <td>Объектно-ориентированное программирование в Ja...</td>\n",
       "      <td>https://habr.com/ru/post/455796/#habracut</td>\n",
       "    </tr>\n",
       "    <tr>\n",
       "      <th>0</th>\n",
       "      <td>2020-02-05</td>\n",
       "      <td>Python Gateway в InterSystems IRIS</td>\n",
       "      <td>https://habr.com/ru/company/intersystems/blog/...</td>\n",
       "    </tr>\n",
       "  </tbody>\n",
       "</table>\n",
       "</div>"
      ],
      "text/plain": [
       "         date                                              title  \\\n",
       "0  2020-04-21  Вышел Python 2.7.18, последний релиз ветки Pyt...   \n",
       "0  2020-12-04  Python как компилируемый статически типизирова...   \n",
       "0  2020-03-03  В начале этого года Python сместил Java и стал...   \n",
       "0  2020-06-03  Вышла версия 0.0.2 snakeware — дистрибутива Li...   \n",
       "0  2020-11-13  Создатель Python Гвидо ван Россум выходит на р...   \n",
       "0  2019-10-31  Создатель Python Гвидо ван Россум ушел из Drop...   \n",
       "0  2020-09-16  Астрономам порекомендовали меньше использовать...   \n",
       "0  2012-07-09                                   Мысли о Python 3   \n",
       "0  2012-12-09  Дружим Python 3 с MS Visual C++. Строим мост в...   \n",
       "0  2013-02-03  Объединяя C++ и Python. Тонкости Boost.Python....   \n",
       "0  2013-02-10  Конвертация типов в Boost.Python. Делаем преоб...   \n",
       "0  2013-02-17  Путешествие исключений между C++ и Python или ...   \n",
       "0  2013-12-18                                    Python на Хабре   \n",
       "0  2017-09-07                                Что за чёрт, Python   \n",
       "0  2018-11-08         Совмещение R и Python: зачем, когда и как?   \n",
       "0  2018-08-29                         Бинарные модули для Python   \n",
       "0  2018-10-03                                Python 3 в Facebook   \n",
       "0  2019-06-03                    Указатели в Python: в чём суть?   \n",
       "0  2019-06-12  Объектно-ориентированное программирование в Ja...   \n",
       "0  2020-02-05                 Python Gateway в InterSystems IRIS   \n",
       "\n",
       "                                                link  \n",
       "0        https://habr.com/ru/news/t/498364/#habracut  \n",
       "0        https://habr.com/ru/news/t/531402/#habracut  \n",
       "0  https://habr.com/ru/company/itsumma/news/t/490...  \n",
       "0        https://habr.com/ru/news/t/505096/#habracut  \n",
       "0        https://habr.com/ru/news/t/527858/#habracut  \n",
       "0        https://habr.com/ru/news/t/473926/#habracut  \n",
       "0        https://habr.com/ru/news/t/519414/#habracut  \n",
       "0          https://habr.com/ru/post/147281/#habracut  \n",
       "0          https://habr.com/ru/post/161931/#habracut  \n",
       "0          https://habr.com/ru/post/168083/#habracut  \n",
       "0          https://habr.com/ru/post/168827/#habracut  \n",
       "0          https://habr.com/ru/post/169639/#habracut  \n",
       "0          https://habr.com/ru/post/205944/#habracut  \n",
       "0  https://habr.com/ru/company/mailru/blog/337364...  \n",
       "0  https://habr.com/ru/company/ods/blog/348260/#h...  \n",
       "0  https://habr.com/ru/company/oleg-bunin/blog/41...  \n",
       "0  https://habr.com/ru/company/otus/blog/425233/#...  \n",
       "0  https://habr.com/ru/company/mailru/blog/454324...  \n",
       "0          https://habr.com/ru/post/455796/#habracut  \n",
       "0  https://habr.com/ru/company/intersystems/blog/...  "
      ]
     },
     "execution_count": 85,
     "metadata": {},
     "output_type": "execute_result"
    }
   ],
   "source": [
    "# запишем данные в датафрейм\n",
    "kom_news = pd.DataFrame()\n",
    "for link in all_links:\n",
    "    soup = BeautifulSoup(requests.get(link).text)\n",
    "\n",
    "    date = pd.to_datetime(soup.find('span', class_='post__time').get('data-time_published'), dayfirst=True).date()\n",
    "    title = soup.find('h1', class_='post__title').text.strip()\n",
    "        \n",
    "    text = link\n",
    "    row = {'date': date, 'title': title, 'link': text}\n",
    "    kom_news = pd.concat([kom_news, pd.DataFrame([row])])  \n",
    "kom_news"
   ]
  },
  {
   "cell_type": "code",
   "execution_count": 46,
   "metadata": {},
   "outputs": [],
   "source": [
    "from bs4 import BeautifulSoup"
   ]
  },
  {
   "cell_type": "markdown",
   "metadata": {},
   "source": [
    "\n",
    "Задание 2.\n",
    "Обязательная часть\n",
    "\n",
    "Написать скрипт, который будет проверять список e-mail адресов на утечку при помощи сервиса Avast Hack Ckeck. Список email-ов задаем переменной в начале кода:\n",
    "EMAIL = [xxx@x.ru, yyy@y.com]\n",
    "\n",
    "В итоге должен формироваться датафрейм со столбцами: <дата утечки> - <источник утечки> - <описание утечки>\n",
    "\n",
    "Подсказка: сервис работает при помощи \"скрытого\" API. Внимательно изучите post-запросы.\n"
   ]
  },
  {
   "cell_type": "markdown",
   "metadata": {},
   "source": [
    "Задание 2.\n",
    "Обязательная часть\n",
    "\n",
    "Написать скрипт, который будет проверять список e-mail адресов на утечку при помощи сервиса Avast Hack Ckeck. Список email-ов задаем переменной в начале кода:\n",
    "EMAIL = [xxx@x.ru, yyy@y.com]\n",
    "\n",
    "В итоге должен формироваться датафрейм со столбцами: <дата утечки> - <источник утечки> - <описание утечки>"
   ]
  },
  {
   "cell_type": "code",
   "execution_count": 1,
   "metadata": {},
   "outputs": [],
   "source": [
    "data = {'o':'xxx@x.ru', 'Vaar-Version':'0', 'Vaar-Header-App-Product-Name':'hackcheck-web-avast', 'Vaar-Header-App-Build-Version':'1.0.0'}"
   ]
  },
  {
   "cell_type": "code",
   "execution_count": 2,
   "metadata": {},
   "outputs": [],
   "source": [
    "URL = 'https://www.avast.com/hackcheck/result-leaks'"
   ]
  },
  {
   "cell_type": "code",
   "execution_count": 5,
   "metadata": {},
   "outputs": [
    {
     "data": {
      "text/plain": [
       "<Response [405]>"
      ]
     },
     "execution_count": 5,
     "metadata": {},
     "output_type": "execute_result"
    }
   ],
   "source": [
    "post_req = requests.post(url=URL, data = data)\n",
    "post_req"
   ]
  },
  {
   "cell_type": "markdown",
   "metadata": {},
   "source": [
    "# Не понял, что я делаю не так.  Данная тема мне абсолютно не понятна"
   ]
  }
 ],
 "metadata": {
  "kernelspec": {
   "display_name": "Python 3",
   "language": "python",
   "name": "python3"
  },
  "language_info": {
   "codemirror_mode": {
    "name": "ipython",
    "version": 3
   },
   "file_extension": ".py",
   "mimetype": "text/x-python",
   "name": "python",
   "nbconvert_exporter": "python",
   "pygments_lexer": "ipython3",
   "version": "3.8.5"
  }
 },
 "nbformat": 4,
 "nbformat_minor": 4
}
