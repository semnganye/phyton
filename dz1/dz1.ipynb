{
 "cells": [
  {
   "cell_type": "markdown",
   "metadata": {},
   "source": [
    "Задание 1 Даны 2 переменных, в которых хранятся строки произвольной длины: phrase_1 и phrase_2.\n",
    "Напишите код, который проверяет какая из этих строк длиннее."
   ]
  },
  {
   "cell_type": "code",
   "execution_count": 24,
   "metadata": {},
   "outputs": [
    {
     "name": "stdout",
     "output_type": "stream",
     "text": [
      "Фраза 1 длиннее фразы 2\n"
     ]
    }
   ],
   "source": [
    "phrase_1 = 'Насколько проще было бы писать программы, если бы не заказчики'\n",
    "phrase_2 = '640Кб должно хватить для любых задач. Билл Гейтс (по легенде)'\n",
    "if len(phrase_1) > len(phrase_2):\n",
    "    print('Фраза 1 длиннее фразы 2')"
   ]
  },
  {
   "cell_type": "code",
   "execution_count": 25,
   "metadata": {},
   "outputs": [
    {
     "name": "stdout",
     "output_type": "stream",
     "text": [
      "Фраза 2 длиннее фразы 1\n"
     ]
    }
   ],
   "source": [
    "phrase_1 = '640Кб должно хватить для любых задач. Билл Гейтс (по легенде)'\n",
    "phrase_2 = 'Насколько проще было бы писать программы, если бы не заказчики'\n",
    "if len(phrase_1) < len(phrase_2):\n",
    "    print('Фраза 2 длиннее фразы 1')"
   ]
  },
  {
   "cell_type": "code",
   "execution_count": 27,
   "metadata": {},
   "outputs": [
    {
     "name": "stdout",
     "output_type": "stream",
     "text": [
      "Фразы равной длины\n"
     ]
    }
   ],
   "source": [
    "phrase_1 = 'Насколько проще было бы писать программы, если бы не заказчики'\n",
    "phrase_2 = 'Насколько проще было бы писать программы, если бы не заказчики'\n",
    "if len(phrase_1) == len(phrase_2):\n",
    "    print('Фразы равной длины')"
   ]
  },
  {
   "cell_type": "markdown",
   "metadata": {},
   "source": [
    "Задание 2 Дана переменная, в которой хранится четырехзначное число (год). Необходимо написать программу, которая выведет, является ли данный год високосным или обычным."
   ]
  },
  {
   "cell_type": "code",
   "execution_count": 30,
   "metadata": {},
   "outputs": [
    {
     "name": "stdout",
     "output_type": "stream",
     "text": [
      "Високосный год\n"
     ]
    }
   ],
   "source": [
    "year = 2020\n",
    "if year % 4 == 0 and year % 100 != 0 or year % 400 == 0:\n",
    "    print('Високосный год')"
   ]
  },
  {
   "cell_type": "code",
   "execution_count": 32,
   "metadata": {},
   "outputs": [
    {
     "name": "stdout",
     "output_type": "stream",
     "text": [
      "Обычный год\n"
     ]
    }
   ],
   "source": [
    "year = 2019\n",
    "if year % 4 != 0 and year % 100 == 0 or year % 400 != 0:\n",
    "    print('Обычный год')"
   ]
  },
  {
   "cell_type": "markdown",
   "metadata": {},
   "source": [
    "Задание 3 Необходимо написать программу, которая будет запрашивать у пользователя месяц и дату рождения и выводить соответствующий знак зодиака."
   ]
  },
  {
   "cell_type": "code",
   "execution_count": 35,
   "metadata": {},
   "outputs": [
    {
     "name": "stdout",
     "output_type": "stream",
     "text": [
      "Введите месяц рождения:1\n",
      "Введите день рождения:18\n",
      "Ваш знак зодиака: Козерог\n"
     ]
    }
   ],
   "source": [
    "month = int(input(\"Введите месяц рождения:\"))\n",
    "date = int(input(\"Введите день рождения:\"))\n",
    "if (month == 3 and date >= 21 and date <=31) or (month == 4 and date <= 20):\n",
    "    print('Ваш знак зодиака: Овен')\n",
    "elif (month == 4 and date >= 21 and date <= 30) or (month == 5 and date <= 21):\n",
    "    print('Ваш знак зодиака: Телец')\n",
    "elif (month == 5 and date >= 22 and date <= 31) or (month == 6 and date <= 21):\n",
    "    print('Ваш знак зодиака: Близнецы')\n",
    "elif (month == 6 and date >= 23 and date <= 30) or (month == 7 and date <= 22):\n",
    "    print('Ваш знак зодиака: Рак')\n",
    "elif (month == 7 and date >= 23 and date <= 31) or (month == 8 and date <= 23):\n",
    "    print('Ваш знак зодиака: Лев')\n",
    "elif (month == 8 and date >= 24 and date <= 31) or (month == 9 and date <= 22):\n",
    "    print('Ваш знак зодиака: Дева')\n",
    "elif (month == 9 and date >= 23 and date <= 30) or (month == 10 and date <= 22):\n",
    "    print('Ваш знак зодиака: Весы')\n",
    "elif (month == 10 and date >= 23 and date <= 31) or (month == 11 and date <= 22):\n",
    "    print('Ваш знак зодиака: Скорпион')\n",
    "elif (month == 11 and date >= 23 and date <= 30) or (month == 12 and date <= 21):\n",
    "    print('Ваш знак зодиака: Стрелец')\n",
    "elif (month == 12 and date >= 22 and date <= 31) or (month == 1 and date <= 20):\n",
    "    print('Ваш знак зодиака: Козерог')\n",
    "elif (month == 1 and date >= 21 and date <= 31) or (month == 2 and date <= 19):\n",
    "    print('Ваш знак зодиака: Водолей')\n",
    "elif (month == 2 and date >= 20 and date <= 29) or (month == 3 and date <= 20):\n",
    "    print('Ваш знак зодиака: Рыбы')"
   ]
  },
  {
   "cell_type": "markdown",
   "metadata": {},
   "source": [
    "Задание 4 Вам нужно написать программу для подбора упаковок по размерам товара. Размеры хранятся в переменных (в сантиметрах):"
   ]
  },
  {
   "cell_type": "code",
   "execution_count": 40,
   "metadata": {},
   "outputs": [
    {
     "name": "stdout",
     "output_type": "stream",
     "text": [
      "Упаковка для лыж\n"
     ]
    }
   ],
   "source": [
    "width = 10\n",
    "length = 205\n",
    "height = 5\n",
    "if width < 15 and length < 15 and  height < 15:\n",
    "    print ('Коробка №1')\n",
    "elif (width > 15 and width < 50) or (length > 15 and length < 50) or (height > 15 and heigt < 50):\n",
    "    print ('Коробка №2')\n",
    "elif length > 200:\n",
    "    print ('Упаковка для лыж')\n",
    "else:\n",
    "    print ('Стандартная коробка №3')"
   ]
  }
 ],
 "metadata": {
  "kernelspec": {
   "display_name": "Python 3",
   "language": "python",
   "name": "python3"
  },
  "language_info": {
   "codemirror_mode": {
    "name": "ipython",
    "version": 3
   },
   "file_extension": ".py",
   "mimetype": "text/x-python",
   "name": "python",
   "nbconvert_exporter": "python",
   "pygments_lexer": "ipython3",
   "version": "3.8.5"
  }
 },
 "nbformat": 4,
 "nbformat_minor": 4
}
