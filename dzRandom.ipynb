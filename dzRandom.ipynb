{
 "cells": [
  {
   "cell_type": "code",
   "execution_count": 1,
   "metadata": {},
   "outputs": [],
   "source": [
    "import numpy as np"
   ]
  },
  {
   "cell_type": "code",
   "execution_count": 90,
   "metadata": {},
   "outputs": [],
   "source": [
    "import re "
   ]
  },
  {
   "cell_type": "markdown",
   "metadata": {},
   "source": [
    "Смоделировать игру против лотерейного автомата типа “777”. Игрок платит 1 руб., после чего выпадает случайное целое число, равномерно распределенное от 0 до 999. При некоторых значениях числа игрок получает выигрыш (см. справа)\n",
    "\n",
    "Выгодна ли игра игроку?\n",
    "\n",
    "Сколько в среднем приобретает\n",
    "или теряет игрок за одну игру?\n",
    "\n",
    "777: 200 руб.\n",
    "999: 100 руб.\n",
    "555: 50 руб.\n",
    "333: 15 руб.\n",
    "111: 10 руб.\n",
    "*77: 5 руб.\n",
    "**7: 3 руб.\n",
    "*00: 2 руб.\n",
    "**0: 1 руб.\n",
    "\n",
    "  *  – любая цифра\n"
   ]
  },
  {
   "cell_type": "code",
   "execution_count": 331,
   "metadata": {},
   "outputs": [
    {
     "name": "stdout",
     "output_type": "stream",
     "text": [
      "Средний выигрыш за одну игру составляет: 0.786223\n"
     ]
    }
   ],
   "source": [
    "trials = 1000000    # Количество попыток\n",
    "successes = 0    # Количество заработанных денег\n",
    "\n",
    "for i in range(trials):\n",
    "    a = np.random.randint(0, 10)  #случайное первое число\n",
    "    b = np.random.randint(0, 10)  #случайное второе число\n",
    "    c = np.random.randint(0, 10)  #случайное третье число  \n",
    "    if a == 7 and b == 7 and c == 7:\n",
    "        successes += 200\n",
    "    elif a == 9 and b == 9 and c == 9:\n",
    "        successes += 100\n",
    "    elif a == 5 and b == 5 and c == 5:\n",
    "        successes += 50\n",
    "    elif a == 1 and b == 1 and c == 1:\n",
    "        successes += 10\n",
    "    elif a != 7 and b == 7 and c == 7:\n",
    "        successes += 5\n",
    "    elif (a != 7 and b != 7 and c == 7) or (a == 7 and b != 7 and c == 7):\n",
    "        successes += 3\n",
    "    elif (a == 0 and b == 0 and c == 0) or (a != 0 and b == 0 and c == 0):\n",
    "        successes += 2\n",
    "    elif (a == 0 and b != 0 and c == 0) or (a != 0 and b != 0 and c == 0):\n",
    "        successes += 1\n",
    "\n",
    "print(f'Средний выигрыш за одну игру составляет: {successes/trials}')"
   ]
  },
  {
   "cell_type": "code",
   "execution_count": 337,
   "metadata": {},
   "outputs": [
    {
     "data": {
      "text/plain": [
       "-0.213777"
      ]
     },
     "execution_count": 337,
     "metadata": {},
     "output_type": "execute_result"
    }
   ],
   "source": [
    "pay = 1 #плата за одну игру\n",
    "benefit = successes/trials - pay #выгода\n",
    "benefit"
   ]
  },
  {
   "cell_type": "markdown",
   "metadata": {},
   "source": [
    "Исходя из расчета игра не выгодна"
   ]
  },
  {
   "cell_type": "code",
   "execution_count": 334,
   "metadata": {},
   "outputs": [
    {
     "name": "stdout",
     "output_type": "stream",
     "text": [
      "Игрок теряет в среднем за игру 0.264591\n"
     ]
    },
    {
     "data": {
      "text/plain": [
       "735409"
      ]
     },
     "execution_count": 334,
     "metadata": {},
     "output_type": "execute_result"
    }
   ],
   "source": [
    "trial = 1000000    # Количество попыток\n",
    "winning_money = 0    # Количество заработанных денег\n",
    "reg77 = r'[012345689]77' #регекс для *77\n",
    "reg7 = r'[0-9][0-9]7'    #регекс для **7\n",
    "reg00 = r'[0-9]00'       #регекс для *00\n",
    "reg0 = r'[0-9][0-9]0'    #регекс для **0\n",
    "\n",
    "for i in range(trial):\n",
    "    random_score = np.random.randint(000, 1000)\n",
    "\n",
    "    if random_score == 777:\n",
    "        winning_money += 200\n",
    "    elif random_score == 999:\n",
    "        winning_money += 100\n",
    "    elif random_score == 555:\n",
    "        winning_money += 50\n",
    "    elif random_score == 111:\n",
    "        winning_money += 10\n",
    "    elif re.findall(reg77, str(random_score)) and random_score != 777:\n",
    "        winning_money += 5\n",
    "    elif re.findall(reg7, str(random_score))  and random_score != 777 and not re.findall(reg77, str(random_score)):\n",
    "        winning_money += 3\n",
    "    elif re.findall(reg00, str(random_score)):\n",
    "        winning_money += 2\n",
    "    elif re.findall(reg0, str(random_score)) and not re.findall(reg00, str(random_score)):\n",
    "        winning_money += 1\n",
    "\n",
    "total_per_game = (trial - winning_money)/trial       \n",
    "print(f'Игрок теряет в среднем за игру {total_per_game}')\n",
    "winning_money"
   ]
  },
  {
   "cell_type": "markdown",
   "metadata": {},
   "source": [
    "Дополнительное задание повышенной сложности. Теоретически рассчитать средний выигрыш (проигрыш) и сравнить с результатами моделирования"
   ]
  },
  {
   "cell_type": "code",
   "execution_count": 301,
   "metadata": {},
   "outputs": [],
   "source": [
    "P777 = 0.001\n",
    "x777 = 200\n",
    "p999 = 0.001\n",
    "x999 = 100\n",
    "p555 = 0.001\n",
    "x555 = 50\n",
    "p111 = 0.001\n",
    "x111 = 10\n",
    "p77 = 0.009\n",
    "x77 = 5\n",
    "p7 = 0.09\n",
    "x7 = 3\n",
    "p00 = 0.01\n",
    "x00 = 2\n",
    "p0 = 0.09\n",
    "x0 = 1"
   ]
  },
  {
   "cell_type": "code",
   "execution_count": 329,
   "metadata": {},
   "outputs": [
    {
     "name": "stdout",
     "output_type": "stream",
     "text": [
      "Средний выигрыш за одну игру составляет: 0.785\n"
     ]
    }
   ],
   "source": [
    "#Среднее значение находится по формуле P1*X1 +P2*X2...\n",
    "#Р1 , Р2 это вероятность выигрыша\n",
    "# X1, X2 это выигрыш при выпадении нужной комбинации\n",
    "x = P777*x777+p999*x999+p555*x555+p111*x111+p77*x77+p7*x7+p00*x00+p0*x0\n",
    "print(f'Средний выигрыш за одну игру составляет: {x}')"
   ]
  }
 ],
 "metadata": {
  "kernelspec": {
   "display_name": "Python 3",
   "language": "python",
   "name": "python3"
  },
  "language_info": {
   "codemirror_mode": {
    "name": "ipython",
    "version": 3
   },
   "file_extension": ".py",
   "mimetype": "text/x-python",
   "name": "python",
   "nbconvert_exporter": "python",
   "pygments_lexer": "ipython3",
   "version": "3.8.5"
  }
 },
 "nbformat": 4,
 "nbformat_minor": 4
}
